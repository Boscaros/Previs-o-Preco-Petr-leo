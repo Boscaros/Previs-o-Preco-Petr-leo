{
 "cells": [
  {
   "cell_type": "markdown",
   "metadata": {
    "id": "bTuqdRb4syjn"
   },
   "source": [
    "\n",
    "# **Prevendo valores do Preço por Barril do Petróleo bruto Brent (FOB)**"
   ]
  },
  {
   "cell_type": "markdown",
   "metadata": {
    "id": "jgSw8Fqdzqfh"
   },
   "source": [
    "O objetivo deste estudo é conduzir quatro tipos de testes de previsão de séries temporais!"
   ]
  },
  {
   "cell_type": "markdown",
   "metadata": {
    "id": "5cYShRpU0EO0"
   },
   "source": [
    "## **Sobre o dataset**"
   ]
  },
  {
   "cell_type": "markdown",
   "metadata": {
    "id": "adD32am10Pqj"
   },
   "source": [
    "O dataset é composto pelo histórico do valor Preço por barril do petróleo bruto Brent (FOB).\n",
    "\n",
    "Produzido no Mar do Norte (Europa), Brent é uma classe de petróleo bruto que serve como benchmark para o preço internacional de diferentes tipos de petróleo. Neste caso, é valorado no chamado preço FOB (free on board), que não inclui despesa de frete e seguro no preço."
   ]
  },
  {
   "cell_type": "markdown",
   "metadata": {
    "id": "koDrujYQ0pFr"
   },
   "source": [
    "Link para acessar os dados de Preço: http://www.ipeadata.gov.br/ExibeSerie.aspx?module=m&serid=1650971490&oper=view"
   ]
  },
  {
   "cell_type": "code",
   "execution_count": 106,
   "metadata": {
    "id": "XdV1VErUvF12"
   },
   "outputs": [],
   "source": [
    "import pandas as pd\n",
    "import numpy as np\n",
    "import matplotlib.pyplot as plt\n",
    "import seaborn as sns\n",
    "from statsmodels.tsa.seasonal import seasonal_decompose\n",
    "from statsmodels.tsa.stattools import acf, pacf\n",
    "from statsmodels.tsa.stattools import adfuller\n",
    "from statsmodels.graphics.tsaplots import plot_acf, plot_pacf\n",
    "from statsmodels.tsa.arima.model import ARIMA\n",
    "from prophet import Prophet"
   ]
  },
  {
   "cell_type": "markdown",
   "metadata": {
    "id": "vxFvNs1w1k6H"
   },
   "source": [
    "### Construindo o Dataset"
   ]
  },
  {
   "cell_type": "markdown",
   "metadata": {
    "id": "iy1fIYH8162s"
   },
   "source": [
    "#### Importando e checando os dados"
   ]
  },
  {
   "cell_type": "code",
   "execution_count": 118,
   "metadata": {
    "id": "3V3fWDE0we3W"
   },
   "outputs": [],
   "source": [
    "# Tentando ler o arquivo CSV com a codificação 'latin1'\n",
    "dados = pd.read_csv('base preco pretoleo.csv', sep=';')"
   ]
  },
  {
   "cell_type": "code",
   "execution_count": 119,
   "metadata": {
    "colab": {
     "base_uri": "https://localhost:8080/",
     "height": 206
    },
    "id": "8-Iqua6ixK3z",
    "outputId": "2714a9de-ccf7-4e76-a75b-5c0a5152bb78",
    "scrolled": false
   },
   "outputs": [
    {
     "data": {
      "text/html": [
       "<div>\n",
       "<style scoped>\n",
       "    .dataframe tbody tr th:only-of-type {\n",
       "        vertical-align: middle;\n",
       "    }\n",
       "\n",
       "    .dataframe tbody tr th {\n",
       "        vertical-align: top;\n",
       "    }\n",
       "\n",
       "    .dataframe thead th {\n",
       "        text-align: right;\n",
       "    }\n",
       "</style>\n",
       "<table border=\"1\" class=\"dataframe\">\n",
       "  <thead>\n",
       "    <tr style=\"text-align: right;\">\n",
       "      <th></th>\n",
       "      <th>Data</th>\n",
       "      <th>Preço do Petróleo</th>\n",
       "    </tr>\n",
       "  </thead>\n",
       "  <tbody>\n",
       "    <tr>\n",
       "      <th>0</th>\n",
       "      <td>21/01/2025</td>\n",
       "      <td>83,18</td>\n",
       "    </tr>\n",
       "    <tr>\n",
       "      <th>1</th>\n",
       "      <td>20/01/2025</td>\n",
       "      <td>83,39</td>\n",
       "    </tr>\n",
       "    <tr>\n",
       "      <th>2</th>\n",
       "      <td>17/01/2025</td>\n",
       "      <td>83,27</td>\n",
       "    </tr>\n",
       "    <tr>\n",
       "      <th>3</th>\n",
       "      <td>16/01/2025</td>\n",
       "      <td>82,44</td>\n",
       "    </tr>\n",
       "    <tr>\n",
       "      <th>4</th>\n",
       "      <td>15/01/2025</td>\n",
       "      <td>82,69</td>\n",
       "    </tr>\n",
       "  </tbody>\n",
       "</table>\n",
       "</div>"
      ],
      "text/plain": [
       "         Data Preço do Petróleo\n",
       "0  21/01/2025             83,18\n",
       "1  20/01/2025             83,39\n",
       "2  17/01/2025             83,27\n",
       "3  16/01/2025             82,44\n",
       "4  15/01/2025             82,69"
      ]
     },
     "execution_count": 119,
     "metadata": {},
     "output_type": "execute_result"
    }
   ],
   "source": [
    "# Verificando os dados\n",
    "dados.head()"
   ]
  },
  {
   "cell_type": "markdown",
   "metadata": {
    "id": "mC3w43lBKGb7"
   },
   "source": [
    "#### Mudando o nome das colunas"
   ]
  },
  {
   "cell_type": "code",
   "execution_count": 120,
   "metadata": {
    "id": "bQak7Tc7KJt8"
   },
   "outputs": [],
   "source": [
    "# Renomeando as colunas para facilitar os códigos:\n",
    "dados.rename(columns={'Data': 'data', 'Preço do Petróleo': 'preco'}, inplace=True)"
   ]
  },
  {
   "cell_type": "code",
   "execution_count": 121,
   "metadata": {
    "colab": {
     "base_uri": "https://localhost:8080/",
     "height": 206
    },
    "id": "aQ_4hgvNKLcJ",
    "outputId": "ca16d891-1c29-4cad-b312-3d53f4369fa2"
   },
   "outputs": [
    {
     "data": {
      "text/html": [
       "<div>\n",
       "<style scoped>\n",
       "    .dataframe tbody tr th:only-of-type {\n",
       "        vertical-align: middle;\n",
       "    }\n",
       "\n",
       "    .dataframe tbody tr th {\n",
       "        vertical-align: top;\n",
       "    }\n",
       "\n",
       "    .dataframe thead th {\n",
       "        text-align: right;\n",
       "    }\n",
       "</style>\n",
       "<table border=\"1\" class=\"dataframe\">\n",
       "  <thead>\n",
       "    <tr style=\"text-align: right;\">\n",
       "      <th></th>\n",
       "      <th>data</th>\n",
       "      <th>preco</th>\n",
       "    </tr>\n",
       "  </thead>\n",
       "  <tbody>\n",
       "    <tr>\n",
       "      <th>0</th>\n",
       "      <td>21/01/2025</td>\n",
       "      <td>83,18</td>\n",
       "    </tr>\n",
       "    <tr>\n",
       "      <th>1</th>\n",
       "      <td>20/01/2025</td>\n",
       "      <td>83,39</td>\n",
       "    </tr>\n",
       "    <tr>\n",
       "      <th>2</th>\n",
       "      <td>17/01/2025</td>\n",
       "      <td>83,27</td>\n",
       "    </tr>\n",
       "    <tr>\n",
       "      <th>3</th>\n",
       "      <td>16/01/2025</td>\n",
       "      <td>82,44</td>\n",
       "    </tr>\n",
       "    <tr>\n",
       "      <th>4</th>\n",
       "      <td>15/01/2025</td>\n",
       "      <td>82,69</td>\n",
       "    </tr>\n",
       "  </tbody>\n",
       "</table>\n",
       "</div>"
      ],
      "text/plain": [
       "         data  preco\n",
       "0  21/01/2025  83,18\n",
       "1  20/01/2025  83,39\n",
       "2  17/01/2025  83,27\n",
       "3  16/01/2025  82,44\n",
       "4  15/01/2025  82,69"
      ]
     },
     "execution_count": 121,
     "metadata": {},
     "output_type": "execute_result"
    }
   ],
   "source": [
    "dados.head()"
   ]
  },
  {
   "cell_type": "markdown",
   "metadata": {
    "id": "i3hvzJHb2FVW"
   },
   "source": [
    "#### Transformando a coluna data em Datetime"
   ]
  },
  {
   "cell_type": "code",
   "execution_count": 122,
   "metadata": {
    "id": "76L5RFPJtZCo"
   },
   "outputs": [],
   "source": [
    "dados['data'] = pd.to_datetime(dados['data'], format='%d/%m/%Y')"
   ]
  },
  {
   "cell_type": "code",
   "execution_count": 123,
   "metadata": {
    "colab": {
     "base_uri": "https://localhost:8080/",
     "height": 206
    },
    "id": "8UFBGYLbtar3",
    "outputId": "730b2348-d7d7-4d08-e69e-dc34f5ca0f15"
   },
   "outputs": [
    {
     "data": {
      "text/html": [
       "<div>\n",
       "<style scoped>\n",
       "    .dataframe tbody tr th:only-of-type {\n",
       "        vertical-align: middle;\n",
       "    }\n",
       "\n",
       "    .dataframe tbody tr th {\n",
       "        vertical-align: top;\n",
       "    }\n",
       "\n",
       "    .dataframe thead th {\n",
       "        text-align: right;\n",
       "    }\n",
       "</style>\n",
       "<table border=\"1\" class=\"dataframe\">\n",
       "  <thead>\n",
       "    <tr style=\"text-align: right;\">\n",
       "      <th></th>\n",
       "      <th>data</th>\n",
       "      <th>preco</th>\n",
       "    </tr>\n",
       "  </thead>\n",
       "  <tbody>\n",
       "    <tr>\n",
       "      <th>0</th>\n",
       "      <td>2025-01-21</td>\n",
       "      <td>83,18</td>\n",
       "    </tr>\n",
       "    <tr>\n",
       "      <th>1</th>\n",
       "      <td>2025-01-20</td>\n",
       "      <td>83,39</td>\n",
       "    </tr>\n",
       "    <tr>\n",
       "      <th>2</th>\n",
       "      <td>2025-01-17</td>\n",
       "      <td>83,27</td>\n",
       "    </tr>\n",
       "    <tr>\n",
       "      <th>3</th>\n",
       "      <td>2025-01-16</td>\n",
       "      <td>82,44</td>\n",
       "    </tr>\n",
       "    <tr>\n",
       "      <th>4</th>\n",
       "      <td>2025-01-15</td>\n",
       "      <td>82,69</td>\n",
       "    </tr>\n",
       "  </tbody>\n",
       "</table>\n",
       "</div>"
      ],
      "text/plain": [
       "        data  preco\n",
       "0 2025-01-21  83,18\n",
       "1 2025-01-20  83,39\n",
       "2 2025-01-17  83,27\n",
       "3 2025-01-16  82,44\n",
       "4 2025-01-15  82,69"
      ]
     },
     "execution_count": 123,
     "metadata": {},
     "output_type": "execute_result"
    }
   ],
   "source": [
    "# Verificando os dados\n",
    "dados.head()"
   ]
  },
  {
   "cell_type": "markdown",
   "metadata": {
    "id": "dpjoJB8OL8FX"
   },
   "source": [
    "#### Transformando a coluna preco em int"
   ]
  },
  {
   "cell_type": "code",
   "execution_count": 124,
   "metadata": {
    "id": "pdyK3rKBM961"
   },
   "outputs": [],
   "source": [
    "# Substituindo a vírgula por ponto\n",
    "dados['preco'] = dados['preco'].str.replace(',', '.')"
   ]
  },
  {
   "cell_type": "code",
   "execution_count": 125,
   "metadata": {
    "colab": {
     "base_uri": "https://localhost:8080/",
     "height": 206
    },
    "id": "KChGew4INAjb",
    "outputId": "6fcc14a2-73fd-4203-a420-922811c34bc9"
   },
   "outputs": [
    {
     "data": {
      "text/html": [
       "<div>\n",
       "<style scoped>\n",
       "    .dataframe tbody tr th:only-of-type {\n",
       "        vertical-align: middle;\n",
       "    }\n",
       "\n",
       "    .dataframe tbody tr th {\n",
       "        vertical-align: top;\n",
       "    }\n",
       "\n",
       "    .dataframe thead th {\n",
       "        text-align: right;\n",
       "    }\n",
       "</style>\n",
       "<table border=\"1\" class=\"dataframe\">\n",
       "  <thead>\n",
       "    <tr style=\"text-align: right;\">\n",
       "      <th></th>\n",
       "      <th>data</th>\n",
       "      <th>preco</th>\n",
       "    </tr>\n",
       "  </thead>\n",
       "  <tbody>\n",
       "    <tr>\n",
       "      <th>0</th>\n",
       "      <td>2025-01-21</td>\n",
       "      <td>83.18</td>\n",
       "    </tr>\n",
       "    <tr>\n",
       "      <th>1</th>\n",
       "      <td>2025-01-20</td>\n",
       "      <td>83.39</td>\n",
       "    </tr>\n",
       "    <tr>\n",
       "      <th>2</th>\n",
       "      <td>2025-01-17</td>\n",
       "      <td>83.27</td>\n",
       "    </tr>\n",
       "    <tr>\n",
       "      <th>3</th>\n",
       "      <td>2025-01-16</td>\n",
       "      <td>82.44</td>\n",
       "    </tr>\n",
       "    <tr>\n",
       "      <th>4</th>\n",
       "      <td>2025-01-15</td>\n",
       "      <td>82.69</td>\n",
       "    </tr>\n",
       "  </tbody>\n",
       "</table>\n",
       "</div>"
      ],
      "text/plain": [
       "        data  preco\n",
       "0 2025-01-21  83.18\n",
       "1 2025-01-20  83.39\n",
       "2 2025-01-17  83.27\n",
       "3 2025-01-16  82.44\n",
       "4 2025-01-15  82.69"
      ]
     },
     "execution_count": 125,
     "metadata": {},
     "output_type": "execute_result"
    }
   ],
   "source": [
    "# verificando a substituição\n",
    "dados.head()"
   ]
  },
  {
   "cell_type": "code",
   "execution_count": 126,
   "metadata": {
    "id": "6VAT_p53Ms3v"
   },
   "outputs": [],
   "source": [
    "# transformando preço em numerico\n",
    "dados['preco'] = pd.to_numeric(dados['preco'])"
   ]
  },
  {
   "cell_type": "code",
   "execution_count": 127,
   "metadata": {
    "colab": {
     "base_uri": "https://localhost:8080/"
    },
    "id": "kRKdt3BoL-FB",
    "outputId": "c18829ab-c90e-410c-f76a-8110b35ec943"
   },
   "outputs": [
    {
     "name": "stdout",
     "output_type": "stream",
     "text": [
      "data     datetime64[ns]\n",
      "preco           float64\n",
      "dtype: object\n"
     ]
    }
   ],
   "source": [
    "# verificando se as colunas estão corretas\n",
    "print(dados.dtypes)"
   ]
  },
  {
   "cell_type": "markdown",
   "metadata": {
    "id": "xQLogT5g2LP3"
   },
   "source": [
    "#### Colocando a coluna data como index"
   ]
  },
  {
   "cell_type": "code",
   "execution_count": 128,
   "metadata": {
    "id": "CSIopiFftjuU"
   },
   "outputs": [],
   "source": [
    "dados.set_index('data', inplace=True)"
   ]
  },
  {
   "cell_type": "code",
   "execution_count": 129,
   "metadata": {
    "colab": {
     "base_uri": "https://localhost:8080/",
     "height": 238
    },
    "id": "KDEmtgW3tkzT",
    "outputId": "fe4f080f-9ce4-440f-a68b-b4ea09391f06"
   },
   "outputs": [
    {
     "data": {
      "text/html": [
       "<div>\n",
       "<style scoped>\n",
       "    .dataframe tbody tr th:only-of-type {\n",
       "        vertical-align: middle;\n",
       "    }\n",
       "\n",
       "    .dataframe tbody tr th {\n",
       "        vertical-align: top;\n",
       "    }\n",
       "\n",
       "    .dataframe thead th {\n",
       "        text-align: right;\n",
       "    }\n",
       "</style>\n",
       "<table border=\"1\" class=\"dataframe\">\n",
       "  <thead>\n",
       "    <tr style=\"text-align: right;\">\n",
       "      <th></th>\n",
       "      <th>preco</th>\n",
       "    </tr>\n",
       "    <tr>\n",
       "      <th>data</th>\n",
       "      <th></th>\n",
       "    </tr>\n",
       "  </thead>\n",
       "  <tbody>\n",
       "    <tr>\n",
       "      <th>2025-01-21</th>\n",
       "      <td>83.18</td>\n",
       "    </tr>\n",
       "    <tr>\n",
       "      <th>2025-01-20</th>\n",
       "      <td>83.39</td>\n",
       "    </tr>\n",
       "    <tr>\n",
       "      <th>2025-01-17</th>\n",
       "      <td>83.27</td>\n",
       "    </tr>\n",
       "    <tr>\n",
       "      <th>2025-01-16</th>\n",
       "      <td>82.44</td>\n",
       "    </tr>\n",
       "    <tr>\n",
       "      <th>2025-01-15</th>\n",
       "      <td>82.69</td>\n",
       "    </tr>\n",
       "  </tbody>\n",
       "</table>\n",
       "</div>"
      ],
      "text/plain": [
       "            preco\n",
       "data             \n",
       "2025-01-21  83.18\n",
       "2025-01-20  83.39\n",
       "2025-01-17  83.27\n",
       "2025-01-16  82.44\n",
       "2025-01-15  82.69"
      ]
     },
     "execution_count": 129,
     "metadata": {},
     "output_type": "execute_result"
    }
   ],
   "source": [
    "# Verificando os dados\n",
    "dados.head()"
   ]
  },
  {
   "cell_type": "code",
   "execution_count": 130,
   "metadata": {
    "colab": {
     "base_uri": "https://localhost:8080/",
     "height": 204
    },
    "id": "psDjl1-WyQgq",
    "outputId": "3b6eae23-2263-4709-c5ee-c90c8fee9374"
   },
   "outputs": [
    {
     "data": {
      "text/plain": [
       "pandas.core.frame.DataFrame"
      ]
     },
     "execution_count": 130,
     "metadata": {},
     "output_type": "execute_result"
    }
   ],
   "source": [
    "type(dados) #check para ver se realmente a coluna index"
   ]
  },
  {
   "cell_type": "markdown",
   "metadata": {
    "id": "t-EMrQoK2Q-d"
   },
   "source": [
    "#### Visualizando os valores de fechamento das ações"
   ]
  },
  {
   "cell_type": "code",
   "execution_count": 131,
   "metadata": {
    "colab": {
     "base_uri": "https://localhost:8080/",
     "height": 526
    },
    "id": "y0QuvDKCsStI",
    "outputId": "88c92d07-04db-4b2e-be42-4581d5960c1c"
   },
   "outputs": [
    {
     "data": {
      "image/png": "[encoded data removed]",
      "text/plain": [
       "<Figure size 720x432 with 1 Axes>"
      ]
     },
     "metadata": {
      "needs_background": "light"
     },
     "output_type": "display_data"
    }
   ],
   "source": [
    "dados['preco'].plot(figsize=(10, 6), linestyle='-', color='b')\n",
    "\n",
    "# Adicionando rótulos e título ao gráfico\n",
    "plt.title('Variação do Preço do Petróleo')\n",
    "plt.xlabel('Data')\n",
    "plt.ylabel('Preço')\n",
    "\n",
    "# Exibindo o gráfico\n",
    "plt.show()"
   ]
  },
  {
   "cell_type": "markdown",
   "metadata": {
    "id": "_NknMWwL238j"
   },
   "source": [
    "## Decomposição para Análise da série temporal"
   ]
  },
  {
   "cell_type": "markdown",
   "metadata": {
    "id": "ixQACT6C3Zsm"
   },
   "source": [
    "Utilizaremos o Statsmodel para decompor a série em:\n",
    "\n",
    "* Tendência, que é a direção da série temporal.\n",
    "* Sazonalidade, que são os padrões repetidos no tempo.\n",
    "* Ruído, que é a diferença entre a série original e o explicado por tendência e sazonalidade.\n",
    "\n",
    "\n",
    "Importância da Decomposição:\n",
    "A decomposição auxilia na compreensão dos dados e na escolha do modelo preditivo, permitindo:\n",
    "\n",
    "* Previsões de longo prazo ao compreender a tendência.\n",
    "* Previsões de curto prazo ao entender a sazonalidade.\n",
    "* Melhora nos modelos ao analisar os resíduos não capturados.\n",
    "\n",
    "Série Aditiva ou Multiplicativa:\n",
    "A decomposição indica se a série é:\n",
    "\n",
    "* Aditiva: Magnitude de sazonalidade e tendência constante.\n",
    "* Multiplicativa: Magnitude varia proporcionalmente ao nível da série."
   ]
  },
  {
   "cell_type": "markdown",
   "metadata": {
    "id": "V9LeC6URe5bG"
   },
   "source": [
    "### Decompondo todo dataset em serie, tendência, sazonalidade e ruído"
   ]
  },
  {
   "cell_type": "code",
   "execution_count": 132,
   "metadata": {
    "id": "_qSJQDVTu0tn"
   },
   "outputs": [],
   "source": [
    "resultados = seasonal_decompose(dados, model='multiplicative', period=5) # Period = sazonaliade. Como temos dados de segunda a sexta, então temos 5, referentes aos 5 dias"
   ]
  },
  {
   "cell_type": "code",
   "execution_count": 133,
   "metadata": {
    "colab": {
     "base_uri": "https://localhost:8080/"
    },
    "id": "e-5T2--5u1xe",
    "outputId": "50757cc0-0ec3-43f4-8d68-ac37f85127a2"
   },
   "outputs": [
    {
     "data": {
      "image/png": "[encoded data removed]",
      "text/plain": [
       "<Figure size 1080x720 with 4 Axes>"
      ]
     },
     "metadata": {
      "needs_background": "light"
     },
     "output_type": "display_data"
    }
   ],
   "source": [
    "fig, (ax1,ax2,ax3,ax4) = plt.subplots(4,1, figsize = (15,10))\n",
    "\n",
    "resultados.observed.plot(ax=ax1) # Serie dos dados\n",
    "resultados.trend.plot(ax=ax2) # tendência dos dados\n",
    "resultados.seasonal.plot(ax=ax3) # sazonalidade\n",
    "resultados.resid.plot(ax=ax4) # resíduos\n",
    "\n",
    "plt.tight_layout()"
   ]
  },
  {
   "cell_type": "markdown",
   "metadata": {
    "id": "_bEA-m1ffR8N"
   },
   "source": [
    "### Decompondo **5 anos** do dataset em serie, tendência, sazonalidade e ruído"
   ]
  },
  {
   "cell_type": "code",
   "execution_count": 134,
   "metadata": {
    "colab": {
     "base_uri": "https://localhost:8080/"
    },
    "id": "t5QEwGkB6mFr",
    "outputId": "e6194027-508e-4c72-fa39-8a5c5350d82d",
    "scrolled": true
   },
   "outputs": [
    {
     "data": {
      "image/png": "[encoded data removed]",
      "text/plain": [
       "<Figure size 1080x576 with 4 Axes>"
      ]
     },
     "metadata": {
      "needs_background": "light"
     },
     "output_type": "display_data"
    }
   ],
   "source": [
    "df_5_anos = dados.loc['2019-05-15':]\n",
    "seasonplot = seasonal_decompose(df_5_anos, model='multiplicative', period=5)  # decompondo a série temporal\n",
    "\n",
    "fig, (ax1, ax2, ax3, ax4) = plt.subplots(4, 1, figsize=(15, 8))\n",
    "seasonplot.observed.plot(ax=ax1)  # série real\n",
    "seasonplot.trend.plot(ax=ax2)  # tendência\n",
    "seasonplot.seasonal.plot(ax=ax3)  # sazonalidade\n",
    "seasonplot.resid.plot(ax=ax4)  # resíduos\n",
    "plt.tight_layout()\n",
    "plt.show()"
   ]
  },
  {
   "cell_type": "markdown",
   "metadata": {
    "id": "6Jh9i0zzhFKw"
   },
   "source": [
    "## Testando com um modelo Robusto (Prophet)"
   ]
  },
  {
   "cell_type": "code",
   "execution_count": 135,
   "metadata": {
    "id": "VbNy1AgnhXpd"
   },
   "outputs": [],
   "source": [
    "# Vou puxar os dados de 2023 em diante\n",
    "dados_resumidos = dados[dados.index >= '2023-01-01']"
   ]
  },
  {
   "cell_type": "code",
   "execution_count": 136,
   "metadata": {
    "colab": {
     "base_uri": "https://localhost:8080/",
     "height": 238
    },
    "id": "3974ys-ziC9O",
    "outputId": "56c41df4-9b7f-4d54-9c02-bdc5d1c915a8"
   },
   "outputs": [
    {
     "data": {
      "text/html": [
       "<div>\n",
       "<style scoped>\n",
       "    .dataframe tbody tr th:only-of-type {\n",
       "        vertical-align: middle;\n",
       "    }\n",
       "\n",
       "    .dataframe tbody tr th {\n",
       "        vertical-align: top;\n",
       "    }\n",
       "\n",
       "    .dataframe thead th {\n",
       "        text-align: right;\n",
       "    }\n",
       "</style>\n",
       "<table border=\"1\" class=\"dataframe\">\n",
       "  <thead>\n",
       "    <tr style=\"text-align: right;\">\n",
       "      <th></th>\n",
       "      <th>preco</th>\n",
       "    </tr>\n",
       "    <tr>\n",
       "      <th>data</th>\n",
       "      <th></th>\n",
       "    </tr>\n",
       "  </thead>\n",
       "  <tbody>\n",
       "    <tr>\n",
       "      <th>2025-01-21</th>\n",
       "      <td>83.18</td>\n",
       "    </tr>\n",
       "    <tr>\n",
       "      <th>2025-01-20</th>\n",
       "      <td>83.39</td>\n",
       "    </tr>\n",
       "    <tr>\n",
       "      <th>2025-01-17</th>\n",
       "      <td>83.27</td>\n",
       "    </tr>\n",
       "    <tr>\n",
       "      <th>2025-01-16</th>\n",
       "      <td>82.44</td>\n",
       "    </tr>\n",
       "    <tr>\n",
       "      <th>2025-01-15</th>\n",
       "      <td>82.69</td>\n",
       "    </tr>\n",
       "  </tbody>\n",
       "</table>\n",
       "</div>"
      ],
      "text/plain": [
       "            preco\n",
       "data             \n",
       "2025-01-21  83.18\n",
       "2025-01-20  83.39\n",
       "2025-01-17  83.27\n",
       "2025-01-16  82.44\n",
       "2025-01-15  82.69"
      ]
     },
     "execution_count": 136,
     "metadata": {},
     "output_type": "execute_result"
    }
   ],
   "source": [
    "dados_resumidos.head()"
   ]
  },
  {
   "cell_type": "code",
   "execution_count": 137,
   "metadata": {
    "colab": {
     "base_uri": "https://localhost:8080/",
     "height": 238
    },
    "id": "vVsjb6f2iGLO",
    "outputId": "ba4d3f5e-2a92-44aa-cc47-e590154d0820"
   },
   "outputs": [
    {
     "data": {
      "text/html": [
       "<div>\n",
       "<style scoped>\n",
       "    .dataframe tbody tr th:only-of-type {\n",
       "        vertical-align: middle;\n",
       "    }\n",
       "\n",
       "    .dataframe tbody tr th {\n",
       "        vertical-align: top;\n",
       "    }\n",
       "\n",
       "    .dataframe thead th {\n",
       "        text-align: right;\n",
       "    }\n",
       "</style>\n",
       "<table border=\"1\" class=\"dataframe\">\n",
       "  <thead>\n",
       "    <tr style=\"text-align: right;\">\n",
       "      <th></th>\n",
       "      <th>preco</th>\n",
       "    </tr>\n",
       "    <tr>\n",
       "      <th>data</th>\n",
       "      <th></th>\n",
       "    </tr>\n",
       "  </thead>\n",
       "  <tbody>\n",
       "    <tr>\n",
       "      <th>2023-01-06</th>\n",
       "      <td>104.94</td>\n",
       "    </tr>\n",
       "    <tr>\n",
       "      <th>2023-01-05</th>\n",
       "      <td>108.36</td>\n",
       "    </tr>\n",
       "    <tr>\n",
       "      <th>2023-01-04</th>\n",
       "      <td>108.36</td>\n",
       "    </tr>\n",
       "    <tr>\n",
       "      <th>2023-01-03</th>\n",
       "      <td>105.78</td>\n",
       "    </tr>\n",
       "    <tr>\n",
       "      <th>2023-01-02</th>\n",
       "      <td>103.30</td>\n",
       "    </tr>\n",
       "  </tbody>\n",
       "</table>\n",
       "</div>"
      ],
      "text/plain": [
       "             preco\n",
       "data              \n",
       "2023-01-06  104.94\n",
       "2023-01-05  108.36\n",
       "2023-01-04  108.36\n",
       "2023-01-03  105.78\n",
       "2023-01-02  103.30"
      ]
     },
     "execution_count": 137,
     "metadata": {},
     "output_type": "execute_result"
    }
   ],
   "source": [
    "dados_resumidos.tail()"
   ]
  },
  {
   "cell_type": "code",
   "execution_count": 138,
   "metadata": {
    "colab": {
     "base_uri": "https://localhost:8080/",
     "height": 206
    },
    "id": "kR3uwOyViV6X",
    "outputId": "c63240f2-3c9c-457a-b153-79ffbfd9dd4e"
   },
   "outputs": [
    {
     "data": {
      "text/html": [
       "<div>\n",
       "<style scoped>\n",
       "    .dataframe tbody tr th:only-of-type {\n",
       "        vertical-align: middle;\n",
       "    }\n",
       "\n",
       "    .dataframe tbody tr th {\n",
       "        vertical-align: top;\n",
       "    }\n",
       "\n",
       "    .dataframe thead th {\n",
       "        text-align: right;\n",
       "    }\n",
       "</style>\n",
       "<table border=\"1\" class=\"dataframe\">\n",
       "  <thead>\n",
       "    <tr style=\"text-align: right;\">\n",
       "      <th></th>\n",
       "      <th>ds</th>\n",
       "      <th>y</th>\n",
       "    </tr>\n",
       "  </thead>\n",
       "  <tbody>\n",
       "    <tr>\n",
       "      <th>0</th>\n",
       "      <td>2025-01-21</td>\n",
       "      <td>83.18</td>\n",
       "    </tr>\n",
       "    <tr>\n",
       "      <th>1</th>\n",
       "      <td>2025-01-20</td>\n",
       "      <td>83.39</td>\n",
       "    </tr>\n",
       "    <tr>\n",
       "      <th>2</th>\n",
       "      <td>2025-01-17</td>\n",
       "      <td>83.27</td>\n",
       "    </tr>\n",
       "    <tr>\n",
       "      <th>3</th>\n",
       "      <td>2025-01-16</td>\n",
       "      <td>82.44</td>\n",
       "    </tr>\n",
       "    <tr>\n",
       "      <th>4</th>\n",
       "      <td>2025-01-15</td>\n",
       "      <td>82.69</td>\n",
       "    </tr>\n",
       "  </tbody>\n",
       "</table>\n",
       "</div>"
      ],
      "text/plain": [
       "          ds      y\n",
       "0 2025-01-21  83.18\n",
       "1 2025-01-20  83.39\n",
       "2 2025-01-17  83.27\n",
       "3 2025-01-16  82.44\n",
       "4 2025-01-15  82.69"
      ]
     },
     "execution_count": 138,
     "metadata": {},
     "output_type": "execute_result"
    }
   ],
   "source": [
    "# Use a função download para obter os dados\n",
    "df = dados_resumidos.copy()\n",
    "df['ds'] = df.index\n",
    "df['y'] = df['preco']\n",
    "df = df[['ds', 'y']].reset_index(drop=True)\n",
    "df.head()"
   ]
  },
  {
   "cell_type": "markdown",
   "metadata": {
    "id": "POxCSfcuifOi"
   },
   "source": [
    "### Separando os dados em treino e teste"
   ]
  },
  {
   "cell_type": "code",
   "execution_count": 139,
   "metadata": {
    "colab": {
     "base_uri": "https://localhost:8080/"
    },
    "id": "DOgPYuKsif6i",
    "outputId": "56531e7c-e22d-4759-ada8-ff4f87527947"
   },
   "outputs": [
    {
     "name": "stdout",
     "output_type": "stream",
     "text": [
      "training data size : (363, 2)\n",
      "testing data size : (155, 2)\n"
     ]
    }
   ],
   "source": [
    "train_data = df.sample(frac=0.7, random_state=0)\n",
    "test_data = df.drop(train_data.index)\n",
    "print(f'training data size : {train_data.shape}')\n",
    "print(f'testing data size : {test_data.shape}')"
   ]
  },
  {
   "cell_type": "markdown",
   "metadata": {
    "id": "306Qq8KjijAo"
   },
   "source": [
    "### Criando e plotando o modelo preditivo"
   ]
  },
  {
   "cell_type": "code",
   "execution_count": 140,
   "metadata": {
    "colab": {
     "base_uri": "https://localhost:8080/",
     "height": 487
    },
    "id": "7SJStI3QilBS",
    "outputId": "b3d04652-c682-41ad-f042-321edd35d927"
   },
   "outputs": [
    {
     "name": "stderr",
     "output_type": "stream",
     "text": [
      "10:17:10 - cmdstanpy - INFO - Chain [1] start processing\n",
      "10:17:10 - cmdstanpy - INFO - Chain [1] done processing\n"
     ]
    },
    {
     "data": {
      "text/html": [
       "<div>\n",
       "<style scoped>\n",
       "    .dataframe tbody tr th:only-of-type {\n",
       "        vertical-align: middle;\n",
       "    }\n",
       "\n",
       "    .dataframe tbody tr th {\n",
       "        vertical-align: top;\n",
       "    }\n",
       "\n",
       "    .dataframe thead th {\n",
       "        text-align: right;\n",
       "    }\n",
       "</style>\n",
       "<table border=\"1\" class=\"dataframe\">\n",
       "  <thead>\n",
       "    <tr style=\"text-align: right;\">\n",
       "      <th></th>\n",
       "      <th>ds</th>\n",
       "      <th>trend</th>\n",
       "      <th>yhat_lower</th>\n",
       "      <th>yhat_upper</th>\n",
       "      <th>trend_lower</th>\n",
       "      <th>trend_upper</th>\n",
       "      <th>additive_terms</th>\n",
       "      <th>additive_terms_lower</th>\n",
       "      <th>additive_terms_upper</th>\n",
       "      <th>daily</th>\n",
       "      <th>...</th>\n",
       "      <th>weekly</th>\n",
       "      <th>weekly_lower</th>\n",
       "      <th>weekly_upper</th>\n",
       "      <th>yearly</th>\n",
       "      <th>yearly_lower</th>\n",
       "      <th>yearly_upper</th>\n",
       "      <th>multiplicative_terms</th>\n",
       "      <th>multiplicative_terms_lower</th>\n",
       "      <th>multiplicative_terms_upper</th>\n",
       "      <th>yhat</th>\n",
       "    </tr>\n",
       "  </thead>\n",
       "  <tbody>\n",
       "    <tr>\n",
       "      <th>0</th>\n",
       "      <td>2023-01-02</td>\n",
       "      <td>104.204322</td>\n",
       "      <td>110.924273</td>\n",
       "      <td>119.074815</td>\n",
       "      <td>104.204322</td>\n",
       "      <td>104.204322</td>\n",
       "      <td>10.611734</td>\n",
       "      <td>10.611734</td>\n",
       "      <td>10.611734</td>\n",
       "      <td>7.898564</td>\n",
       "      <td>...</td>\n",
       "      <td>0.124093</td>\n",
       "      <td>0.124093</td>\n",
       "      <td>0.124093</td>\n",
       "      <td>2.589077</td>\n",
       "      <td>2.589077</td>\n",
       "      <td>2.589077</td>\n",
       "      <td>0.0</td>\n",
       "      <td>0.0</td>\n",
       "      <td>0.0</td>\n",
       "      <td>114.816056</td>\n",
       "    </tr>\n",
       "    <tr>\n",
       "      <th>1</th>\n",
       "      <td>2023-01-03</td>\n",
       "      <td>104.214849</td>\n",
       "      <td>109.586674</td>\n",
       "      <td>117.983240</td>\n",
       "      <td>104.214849</td>\n",
       "      <td>104.214849</td>\n",
       "      <td>9.612964</td>\n",
       "      <td>9.612964</td>\n",
       "      <td>9.612964</td>\n",
       "      <td>7.898564</td>\n",
       "      <td>...</td>\n",
       "      <td>-0.344791</td>\n",
       "      <td>-0.344791</td>\n",
       "      <td>-0.344791</td>\n",
       "      <td>2.059190</td>\n",
       "      <td>2.059190</td>\n",
       "      <td>2.059190</td>\n",
       "      <td>0.0</td>\n",
       "      <td>0.0</td>\n",
       "      <td>0.0</td>\n",
       "      <td>113.827813</td>\n",
       "    </tr>\n",
       "    <tr>\n",
       "      <th>2</th>\n",
       "      <td>2023-01-04</td>\n",
       "      <td>104.225376</td>\n",
       "      <td>109.540405</td>\n",
       "      <td>117.737629</td>\n",
       "      <td>104.225376</td>\n",
       "      <td>104.225376</td>\n",
       "      <td>9.321437</td>\n",
       "      <td>9.321437</td>\n",
       "      <td>9.321437</td>\n",
       "      <td>7.898564</td>\n",
       "      <td>...</td>\n",
       "      <td>-0.114794</td>\n",
       "      <td>-0.114794</td>\n",
       "      <td>-0.114794</td>\n",
       "      <td>1.537667</td>\n",
       "      <td>1.537667</td>\n",
       "      <td>1.537667</td>\n",
       "      <td>0.0</td>\n",
       "      <td>0.0</td>\n",
       "      <td>0.0</td>\n",
       "      <td>113.546812</td>\n",
       "    </tr>\n",
       "    <tr>\n",
       "      <th>3</th>\n",
       "      <td>2023-01-05</td>\n",
       "      <td>104.235902</td>\n",
       "      <td>109.703180</td>\n",
       "      <td>117.559756</td>\n",
       "      <td>104.235902</td>\n",
       "      <td>104.235902</td>\n",
       "      <td>9.328848</td>\n",
       "      <td>9.328848</td>\n",
       "      <td>9.328848</td>\n",
       "      <td>7.898564</td>\n",
       "      <td>...</td>\n",
       "      <td>0.395929</td>\n",
       "      <td>0.395929</td>\n",
       "      <td>0.395929</td>\n",
       "      <td>1.034354</td>\n",
       "      <td>1.034354</td>\n",
       "      <td>1.034354</td>\n",
       "      <td>0.0</td>\n",
       "      <td>0.0</td>\n",
       "      <td>0.0</td>\n",
       "      <td>113.564750</td>\n",
       "    </tr>\n",
       "    <tr>\n",
       "      <th>4</th>\n",
       "      <td>2023-01-06</td>\n",
       "      <td>104.246429</td>\n",
       "      <td>109.156085</td>\n",
       "      <td>117.424458</td>\n",
       "      <td>104.246429</td>\n",
       "      <td>104.246429</td>\n",
       "      <td>8.946820</td>\n",
       "      <td>8.946820</td>\n",
       "      <td>8.946820</td>\n",
       "      <td>7.898564</td>\n",
       "      <td>...</td>\n",
       "      <td>0.489655</td>\n",
       "      <td>0.489655</td>\n",
       "      <td>0.489655</td>\n",
       "      <td>0.558600</td>\n",
       "      <td>0.558600</td>\n",
       "      <td>0.558600</td>\n",
       "      <td>0.0</td>\n",
       "      <td>0.0</td>\n",
       "      <td>0.0</td>\n",
       "      <td>113.193249</td>\n",
       "    </tr>\n",
       "  </tbody>\n",
       "</table>\n",
       "<p>5 rows × 22 columns</p>\n",
       "</div>"
      ],
      "text/plain": [
       "          ds       trend  yhat_lower  yhat_upper  trend_lower  trend_upper  \\\n",
       "0 2023-01-02  104.204322  110.924273  119.074815   104.204322   104.204322   \n",
       "1 2023-01-03  104.214849  109.586674  117.983240   104.214849   104.214849   \n",
       "2 2023-01-04  104.225376  109.540405  117.737629   104.225376   104.225376   \n",
       "3 2023-01-05  104.235902  109.703180  117.559756   104.235902   104.235902   \n",
       "4 2023-01-06  104.246429  109.156085  117.424458   104.246429   104.246429   \n",
       "\n",
       "   additive_terms  additive_terms_lower  additive_terms_upper     daily  ...  \\\n",
       "0       10.611734             10.611734             10.611734  7.898564  ...   \n",
       "1        9.612964              9.612964              9.612964  7.898564  ...   \n",
       "2        9.321437              9.321437              9.321437  7.898564  ...   \n",
       "3        9.328848              9.328848              9.328848  7.898564  ...   \n",
       "4        8.946820              8.946820              8.946820  7.898564  ...   \n",
       "\n",
       "     weekly  weekly_lower  weekly_upper    yearly  yearly_lower  yearly_upper  \\\n",
       "0  0.124093      0.124093      0.124093  2.589077      2.589077      2.589077   \n",
       "1 -0.344791     -0.344791     -0.344791  2.059190      2.059190      2.059190   \n",
       "2 -0.114794     -0.114794     -0.114794  1.537667      1.537667      1.537667   \n",
       "3  0.395929      0.395929      0.395929  1.034354      1.034354      1.034354   \n",
       "4  0.489655      0.489655      0.489655  0.558600      0.558600      0.558600   \n",
       "\n",
       "   multiplicative_terms  multiplicative_terms_lower  \\\n",
       "0                   0.0                         0.0   \n",
       "1                   0.0                         0.0   \n",
       "2                   0.0                         0.0   \n",
       "3                   0.0                         0.0   \n",
       "4                   0.0                         0.0   \n",
       "\n",
       "   multiplicative_terms_upper        yhat  \n",
       "0                         0.0  114.816056  \n",
       "1                         0.0  113.827813  \n",
       "2                         0.0  113.546812  \n",
       "3                         0.0  113.564750  \n",
       "4                         0.0  113.193249  \n",
       "\n",
       "[5 rows x 22 columns]"
      ]
     },
     "execution_count": 140,
     "metadata": {},
     "output_type": "execute_result"
    }
   ],
   "source": [
    "modelo = Prophet(daily_seasonality=True)\n",
    "modelo.fit(train_data)\n",
    "dataFramefuture = modelo.make_future_dataframe(periods=30, freq='D')\n",
    "previsao = modelo.predict(dataFramefuture)\n",
    "previsao.head()"
   ]
  },
  {
   "cell_type": "code",
   "execution_count": 141,
   "metadata": {
    "colab": {
     "base_uri": "https://localhost:8080/",
     "height": 568
    },
    "id": "GCF86A7ai8mm",
    "outputId": "ce611ad8-ff64-445a-a3b1-12a7e9b1d2d7"
   },
   "outputs": [
    {
     "data": {
      "text/plain": [
       "[<matplotlib.lines.Line2D at 0x1ae6fc15580>]"
      ]
     },
     "execution_count": 141,
     "metadata": {},
     "output_type": "execute_result"
    },
    {
     "data": {
      "image/png": "[encoded data removed]",
      "text/plain": [
       "<Figure size 1440x432 with 1 Axes>"
      ]
     },
     "metadata": {},
     "output_type": "display_data"
    }
   ],
   "source": [
    "modelo.plot(previsao, figsize=(20,6));\n",
    "plt.plot(test_data['ds'], test_data['y'], '.r')"
   ]
  },
  {
   "cell_type": "markdown",
   "metadata": {
    "id": "XQIcPpIzjBcH"
   },
   "source": [
    "### Plotando com ploty"
   ]
  },
  {
   "cell_type": "markdown",
   "metadata": {
    "id": "PNajaiXPjFSW"
   },
   "source": [
    "obs:como o github não renderiza javascript, estou colocando abaixo do código, um print do gráfico de ploty"
   ]
  },
  {
   "cell_type": "code",
   "execution_count": 148,
   "metadata": {
    "colab": {
     "base_uri": "https://localhost:8080/",
     "height": 542
    },
    "id": "C2xsE0Uki8QD",
    "outputId": "8921a6fe-c9e3-4971-e471-76d0f5d8b883",
    "scrolled": true
   },
   "outputs": [
    {
     "data": {
      "application/vnd.plotly.v1+json": {
       "config": {
        "plotlyServerURL": "https://plot.ly"
       },
       "data": [
        {
         "mode": "lines",
         "name": "Previsão",
         "type": "scatter",
         "x": [
          "2023-01-02T00:00:00",
          "2023-01-03T00:00:00",
          "2023-01-04T00:00:00",
          "2023-01-05T00:00:00",
          "2023-01-06T00:00:00",
          "2023-01-12T00:00:00",
          "2023-01-17T00:00:00",
          "2023-01-18T00:00:00",
          "2023-01-19T00:00:00",
          "2023-01-20T00:00:00",
          "2023-01-23T00:00:00",
          "2023-01-24T00:00:00",
          "2023-01-25T00:00:00",
          "2023-01-26T00:00:00",
          "2023-01-27T00:00:00",
          "2023-01-31T00:00:00",
          "2023-02-01T00:00:00",
          "2023-02-02T00:00:00",
          "2023-02-08T00:00:00",
          "2023-02-09T00:00:00",
          "2023-02-10T00:00:00",
          "2023-02-15T00:00:00",
          "2023-02-16T00:00:00",
          "2023-02-17T00:00:00",
          "2023-02-21T00:00:00",
          "2023-02-23T00:00:00",
          "2023-02-24T00:00:00",
          "2023-02-27T00:00:00",
          "2023-02-28T00:00:00",
          "2023-03-01T00:00:00",
          "2023-03-03T00:00:00",
          "2023-03-07T00:00:00",
          "2023-03-09T00:00:00",
          "2023-03-15T00:00:00",
          "2023-03-17T00:00:00",
          "2023-03-21T00:00:00",
          "2023-03-22T00:00:00",
          "2023-03-27T00:00:00",
          "2023-03-28T00:00:00",
          "2023-03-29T00:00:00",
          "2023-03-30T00:00:00",
          "2023-03-31T00:00:00",
          "2023-04-03T00:00:00",
          "2023-04-05T00:00:00",
          "2023-04-11T00:00:00",
          "2023-04-12T00:00:00",
          "2023-04-13T00:00:00",
          "2023-04-14T00:00:00",
          "2023-04-17T00:00:00",
          "2023-04-19T00:00:00",
          "2023-04-20T00:00:00",
          "2023-04-21T00:00:00",
          "2023-04-25T00:00:00",
          "2023-04-26T00:00:00",
          "2023-04-27T00:00:00",
          "2023-04-28T00:00:00",
          "2023-05-02T00:00:00",
          "2023-05-09T00:00:00",
          "2023-05-10T00:00:00",
          "2023-05-11T00:00:00",
          "2023-05-16T00:00:00",
          "2023-05-18T00:00:00",
          "2023-05-19T00:00:00",
          "2023-05-23T00:00:00",
          "2023-05-26T00:00:00",
          "2023-05-30T00:00:00",
          "2023-05-31T00:00:00",
          "2023-06-01T00:00:00",
          "2023-06-02T00:00:00",
          "2023-06-05T00:00:00",
          "2023-06-06T00:00:00",
          "2023-06-07T00:00:00",
          "2023-06-08T00:00:00",
          "2023-06-09T00:00:00",
          "2023-06-12T00:00:00",
          "2023-06-13T00:00:00",
          "2023-06-15T00:00:00",
          "2023-06-16T00:00:00",
          "2023-06-19T00:00:00",
          "2023-06-20T00:00:00",
          "2023-06-21T00:00:00",
          "2023-06-27T00:00:00",
          "2023-06-28T00:00:00",
          "2023-06-29T00:00:00",
          "2023-07-03T00:00:00",
          "2023-07-04T00:00:00",
          "2023-07-08T00:00:00",
          "2023-07-10T00:00:00",
          "2023-07-13T00:00:00",
          "2023-07-14T00:00:00",
          "2023-07-15T00:00:00",
          "2023-07-17T00:00:00",
          "2023-07-18T00:00:00",
          "2023-07-21T00:00:00",
          "2023-07-24T00:00:00",
          "2023-07-26T00:00:00",
          "2023-07-27T00:00:00",
          "2023-08-02T00:00:00",
          "2023-08-03T00:00:00",
          "2023-08-04T00:00:00",
          "2023-08-07T00:00:00",
          "2023-08-08T00:00:00",
          "2023-08-09T00:00:00",
          "2023-08-10T00:00:00",
          "2023-08-16T00:00:00",
          "2023-08-18T00:00:00",
          "2023-08-21T00:00:00",
          "2023-08-22T00:00:00",
          "2023-08-23T00:00:00",
          "2023-08-24T00:00:00",
          "2023-08-25T00:00:00",
          "2023-08-30T00:00:00",
          "2023-08-31T00:00:00",
          "2023-09-04T00:00:00",
          "2023-09-05T00:00:00",
          "2023-09-06T00:00:00",
          "2023-09-07T00:00:00",
          "2023-09-08T00:00:00",
          "2023-09-12T00:00:00",
          "2023-09-13T00:00:00",
          "2023-09-18T00:00:00",
          "2023-09-22T00:00:00",
          "2023-09-25T00:00:00",
          "2023-09-26T00:00:00",
          "2023-09-27T00:00:00",
          "2023-09-28T00:00:00",
          "2023-09-29T00:00:00",
          "2023-10-02T00:00:00",
          "2023-10-03T00:00:00",
          "2023-10-05T00:00:00",
          "2023-10-06T00:00:00",
          "2023-10-10T00:00:00",
          "2023-10-11T00:00:00",
          "2023-10-12T00:00:00",
          "2023-10-13T00:00:00",
          "2023-10-16T00:00:00",
          "2023-10-17T00:00:00",
          "2023-10-19T00:00:00",
          "2023-10-20T00:00:00",
          "2023-10-23T00:00:00",
          "2023-10-24T00:00:00",
          "2023-10-25T00:00:00",
          "2023-10-26T00:00:00",
          "2023-10-30T00:00:00",
          "2023-11-08T00:00:00",
          "2023-11-09T00:00:00",
          "2023-11-10T00:00:00",
          "2023-11-13T00:00:00",
          "2023-11-14T00:00:00",
          "2023-11-15T00:00:00",
          "2023-11-16T00:00:00",
          "2023-11-17T00:00:00",
          "2023-11-20T00:00:00",
          "2023-11-21T00:00:00",
          "2023-11-22T00:00:00",
          "2023-11-28T00:00:00",
          "2023-11-30T00:00:00",
          "2023-12-01T00:00:00",
          "2023-12-05T00:00:00",
          "2023-12-06T00:00:00",
          "2023-12-07T00:00:00",
          "2023-12-08T00:00:00",
          "2023-12-11T00:00:00",
          "2023-12-13T00:00:00",
          "2023-12-15T00:00:00",
          "2023-12-18T00:00:00",
          "2023-12-19T00:00:00",
          "2023-12-21T00:00:00",
          "2023-12-22T00:00:00",
          "2023-12-27T00:00:00",
          "2023-12-28T00:00:00",
          "2024-01-04T00:00:00",
          "2024-01-05T00:00:00",
          "2024-01-09T00:00:00",
          "2024-01-10T00:00:00",
          "2024-01-11T00:00:00",
          "2024-01-17T00:00:00",
          "2024-01-18T00:00:00",
          "2024-01-19T00:00:00",
          "2024-01-22T00:00:00",
          "2024-01-23T00:00:00",
          "2024-01-24T00:00:00",
          "2024-01-25T00:00:00",
          "2024-01-26T00:00:00",
          "2024-01-29T00:00:00",
          "2024-01-30T00:00:00",
          "2024-01-31T00:00:00",
          "2024-02-05T00:00:00",
          "2024-02-06T00:00:00",
          "2024-02-07T00:00:00",
          "2024-02-08T00:00:00",
          "2024-02-09T00:00:00",
          "2024-02-12T00:00:00",
          "2024-02-13T00:00:00",
          "2024-02-14T00:00:00",
          "2024-02-15T00:00:00",
          "2024-02-16T00:00:00",
          "2024-02-19T00:00:00",
          "2024-02-20T00:00:00",
          "2024-02-21T00:00:00",
          "2024-02-22T00:00:00",
          "2024-02-23T00:00:00",
          "2024-02-27T00:00:00",
          "2024-02-28T00:00:00",
          "2024-02-29T00:00:00",
          "2024-03-01T00:00:00",
          "2024-03-05T00:00:00",
          "2024-03-06T00:00:00",
          "2024-03-07T00:00:00",
          "2024-03-08T00:00:00",
          "2024-03-11T00:00:00",
          "2024-03-12T00:00:00",
          "2024-03-13T00:00:00",
          "2024-03-14T00:00:00",
          "2024-03-15T00:00:00",
          "2024-03-18T00:00:00",
          "2024-03-19T00:00:00",
          "2024-03-20T00:00:00",
          "2024-03-22T00:00:00",
          "2024-03-26T00:00:00",
          "2024-03-27T00:00:00",
          "2024-03-28T00:00:00",
          "2024-04-05T00:00:00",
          "2024-04-08T00:00:00",
          "2024-04-09T00:00:00",
          "2024-04-11T00:00:00",
          "2024-04-12T00:00:00",
          "2024-04-15T00:00:00",
          "2024-04-18T00:00:00",
          "2024-04-19T00:00:00",
          "2024-04-22T00:00:00",
          "2024-04-23T00:00:00",
          "2024-04-25T00:00:00",
          "2024-04-29T00:00:00",
          "2024-05-01T00:00:00",
          "2024-05-02T00:00:00",
          "2024-05-07T00:00:00",
          "2024-05-10T00:00:00",
          "2024-05-13T00:00:00",
          "2024-05-15T00:00:00",
          "2024-05-16T00:00:00",
          "2024-05-17T00:00:00",
          "2024-05-20T00:00:00",
          "2024-05-22T00:00:00",
          "2024-05-23T00:00:00",
          "2024-05-24T00:00:00",
          "2024-05-29T00:00:00",
          "2024-05-31T00:00:00",
          "2024-06-03T00:00:00",
          "2024-06-04T00:00:00",
          "2024-06-05T00:00:00",
          "2024-06-06T00:00:00",
          "2024-06-07T00:00:00",
          "2024-06-10T00:00:00",
          "2024-06-11T00:00:00",
          "2024-06-12T00:00:00",
          "2024-06-13T00:00:00",
          "2024-06-14T00:00:00",
          "2024-06-18T00:00:00",
          "2024-06-19T00:00:00",
          "2024-06-24T00:00:00",
          "2024-06-25T00:00:00",
          "2024-06-26T00:00:00",
          "2024-06-28T00:00:00",
          "2024-07-01T00:00:00",
          "2024-07-02T00:00:00",
          "2024-07-03T00:00:00",
          "2024-07-04T00:00:00",
          "2024-07-05T00:00:00",
          "2024-07-08T00:00:00",
          "2024-07-09T00:00:00",
          "2024-07-10T00:00:00",
          "2024-07-11T00:00:00",
          "2024-07-12T00:00:00",
          "2024-07-17T00:00:00",
          "2024-07-22T00:00:00",
          "2024-07-23T00:00:00",
          "2024-07-24T00:00:00",
          "2024-07-26T00:00:00",
          "2024-07-30T00:00:00",
          "2024-08-01T00:00:00",
          "2024-08-02T00:00:00",
          "2024-08-05T00:00:00",
          "2024-08-07T00:00:00",
          "2024-08-08T00:00:00",
          "2024-08-09T00:00:00",
          "2024-08-12T00:00:00",
          "2024-08-13T00:00:00",
          "2024-08-14T00:00:00",
          "2024-08-15T00:00:00",
          "2024-08-16T00:00:00",
          "2024-08-19T00:00:00",
          "2024-08-21T00:00:00",
          "2024-08-22T00:00:00",
          "2024-08-23T00:00:00",
          "2024-08-27T00:00:00",
          "2024-08-28T00:00:00",
          "2024-09-02T00:00:00",
          "2024-09-03T00:00:00",
          "2024-09-06T00:00:00",
          "2024-09-09T00:00:00",
          "2024-09-11T00:00:00",
          "2024-09-12T00:00:00",
          "2024-09-18T00:00:00",
          "2024-09-20T00:00:00",
          "2024-09-24T00:00:00",
          "2024-09-25T00:00:00",
          "2024-09-26T00:00:00",
          "2024-09-27T00:00:00",
          "2024-09-30T00:00:00",
          "2024-10-01T00:00:00",
          "2024-10-02T00:00:00",
          "2024-10-03T00:00:00",
          "2024-10-04T00:00:00",
          "2024-10-08T00:00:00",
          "2024-10-11T00:00:00",
          "2024-10-12T00:00:00",
          "2024-10-15T00:00:00",
          "2024-10-16T00:00:00",
          "2024-10-17T00:00:00",
          "2024-10-18T00:00:00",
          "2024-10-22T00:00:00",
          "2024-10-23T00:00:00",
          "2024-10-24T00:00:00",
          "2024-10-29T00:00:00",
          "2024-10-30T00:00:00",
          "2024-10-31T00:00:00",
          "2024-11-04T00:00:00",
          "2024-11-05T00:00:00",
          "2024-11-07T00:00:00",
          "2024-11-12T00:00:00",
          "2024-11-13T00:00:00",
          "2024-11-14T00:00:00",
          "2024-11-20T00:00:00",
          "2024-11-25T00:00:00",
          "2024-11-27T00:00:00",
          "2024-11-28T00:00:00",
          "2024-11-29T00:00:00",
          "2024-12-04T00:00:00",
          "2024-12-05T00:00:00",
          "2024-12-09T00:00:00",
          "2024-12-10T00:00:00",
          "2024-12-12T00:00:00",
          "2024-12-16T00:00:00",
          "2024-12-19T00:00:00",
          "2024-12-20T00:00:00",
          "2024-12-23T00:00:00",
          "2024-12-24T00:00:00",
          "2024-12-26T00:00:00",
          "2024-12-27T00:00:00",
          "2024-12-30T00:00:00",
          "2024-12-31T00:00:00",
          "2025-01-02T00:00:00",
          "2025-01-03T00:00:00",
          "2025-01-07T00:00:00",
          "2025-01-09T00:00:00",
          "2025-01-10T00:00:00",
          "2025-01-13T00:00:00",
          "2025-01-14T00:00:00",
          "2025-01-15T00:00:00",
          "2025-01-16T00:00:00",
          "2025-01-17T00:00:00",
          "2025-01-20T00:00:00",
          "2025-01-21T00:00:00",
          "2025-01-22T00:00:00",
          "2025-01-23T00:00:00",
          "2025-01-24T00:00:00",
          "2025-01-25T00:00:00",
          "2025-01-26T00:00:00",
          "2025-01-27T00:00:00",
          "2025-01-28T00:00:00",
          "2025-01-29T00:00:00",
          "2025-01-30T00:00:00",
          "2025-01-31T00:00:00",
          "2025-02-01T00:00:00",
          "2025-02-02T00:00:00",
          "2025-02-03T00:00:00",
          "2025-02-04T00:00:00",
          "2025-02-05T00:00:00",
          "2025-02-06T00:00:00",
          "2025-02-07T00:00:00",
          "2025-02-08T00:00:00",
          "2025-02-09T00:00:00",
          "2025-02-10T00:00:00",
          "2025-02-11T00:00:00",
          "2025-02-12T00:00:00",
          "2025-02-13T00:00:00",
          "2025-02-14T00:00:00",
          "2025-02-15T00:00:00",
          "2025-02-16T00:00:00",
          "2025-02-17T00:00:00",
          "2025-02-18T00:00:00",
          "2025-02-19T00:00:00"
         ],
         "y": [
          114.81605643317005,
          113.82781274485356,
          113.54681225553604,
          113.56474986736148,
          113.19324879549781,
          111.30809168814328,
          110.82194955163429,
          111.29475877158305,
          112.10398786280821,
          112.54656436286251,
          113.46669905249406,
          113.48296176000333,
          114.21424742291877,
          115.23506119928318,
          115.8404887174041,
          116.93685200584963,
          117.59178917710436,
          118.49495830954626,
          119.51114051641633,
          120.12895265657325,
          120.28885005678977,
          119.47497114135389,
          119.85511553784234,
          119.79616102344144,
          117.32916798714461,
          117.2077460370034,
          116.86956500745151,
          115.23594814275333,
          114.36094876857577,
          114.19620986036733,
          114.051102614444,
          111.9043877798028,
          112.08963566592104,
          110.28598071204749,
          110.55784416254434,
          109.13367948623686,
          109.22140249380142,
          108.6886811565374,
          108.04204601841965,
          108.08334655689026,
          108.39346027316373,
          108.27391814771464,
          107.1887501819334,
          106.40409962930943,
          104.2830818321245,
          104.17375713855722,
          104.34211117242543,
          104.0918811898383,
          102.698311284069,
          101.78837517362882,
          101.97028097665587,
          101.74027602076548,
          99.66283789391291,
          99.59372864901121,
          99.80894623924739,
          99.61006343421876,
          97.61950516915515,
          95.58583830704346,
          95.5268993934279,
          95.75183336136102,
          93.68629613883719,
          93.97996126502312,
          93.87517470248561,
          92.44480346285948,
          93.05627615120638,
          92.19152882406199,
          92.44932844866898,
          92.99671251194978,
          93.13284677578987,
          92.89584745661953,
          92.65359448993962,
          93.09943655342605,
          93.81225544455111,
          94.09165070520753,
          94.16338540986925,
          93.79552985795553,
          94.66767601973083,
          94.79241618371944,
          94.3949219854122,
          93.88001930579415,
          94.05026370044033,
          93.32706141168016,
          93.47641178265418,
          93.91228956380625,
          93.41318626692268,
          92.90423901465385,
          93.54405796653162,
          93.12979539218556,
          93.13165619310952,
          93.08895003136075,
          92.87120218106797,
          92.12974378212888,
          91.39368759056178,
          91.20302516960459,
          89.49140739448089,
          88.20848742588682,
          88.1649509804968,
          84.21027178255684,
          84.1805328876006,
          83.75796349750127,
          82.03239065318817,
          81.18457333427912,
          81.07672325021706,
          81.29182116304915,
          79.85663207706202,
          80.41788165952346,
          80.13043917534984,
          79.70800558116842,
          79.98765778430342,
          80.54751752349783,
          80.68659655245803,
          80.17926238042087,
          80.67821665531068,
          80.29066616662573,
          79.7885484083405,
          79.98995879583218,
          80.48023615374234,
          80.53152714945581,
          79.70582870618493,
          79.99488425414583,
          80.91369971393583,
          82.19542858135993,
          82.59281816058608,
          82.36882204229333,
          82.83146808187736,
          83.55845534909535,
          83.8483323860896,
          83.92183867869046,
          83.46775099264913,
          84.15154085104459,
          84.17555149586948,
          82.84723861892803,
          82.9194909353767,
          83.26822517282388,
          83.20092881630204,
          82.4098938581908,
          81.83447495028477,
          82.43910039209398,
          82.5089143040514,
          82.26368267722215,
          81.89760845303277,
          82.2586104855816,
          82.92519489342722,
          83.42976048141814,
          84.13525057094341,
          84.55047043671654,
          84.49721519567915,
          83.38992146470966,
          82.58252028127686,
          82.43588470550672,
          82.53803295073509,
          82.19835766135641,
          80.46566701787074,
          79.54845152174497,
          79.3491090880845,
          77.40632777785437,
          78.05399371977471,
          78.20548310225124,
          78.26510872715897,
          78.8628910786662,
          79.7858741550333,
          80.32774927624905,
          81.42442106483104,
          82.15318091927841,
          83.62044728027779,
          84.18635149029147,
          83.90037602371449,
          84.78385313595086,
          84.83182842879548,
          82.85157004384926,
          82.88486384690643,
          78.59393756674322,
          78.05720310646467,
          75.03818791353824,
          74.8441316277852,
          74.99121202265279,
          73.69157441406503,
          74.2982206054569,
          74.5447778931019,
          74.92413416929553,
          74.77765335733316,
          75.35538462566645,
          76.23182928505815,
          76.70190456253017,
          77.45807801491704,
          77.33862645182047,
          77.89596459717198,
          79.28766011524321,
          78.9319069994011,
          79.23235381366135,
          79.7707097164737,
          79.8497391091059,
          79.19926167627735,
          78.56185109513454,
          78.59084356644495,
          78.87109121675412,
          78.70806774606626,
          77.44818447951162,
          76.89008194400226,
          77.02142110841385,
          77.42724642163304,
          77.41288796649586,
          76.16892981262508,
          76.31409974256601,
          76.75096392817548,
          76.78336087400844,
          75.8518367558577,
          76.09831176481903,
          76.64248776166704,
          76.86307115763422,
          76.9759596434464,
          76.69696203562356,
          77.1304626197156,
          77.85709814646437,
          78.17778023321418,
          78.54373070358662,
          78.32984491147533,
          78.81738077798003,
          79.93703588307264,
          80.08295066123922,
          80.53810789175118,
          81.26332267418591,
          82.61497903090164,
          82.52145116586206,
          82.1258962023156,
          82.99558057360571,
          83.14791300495722,
          82.9520434924543,
          83.41044515506067,
          83.57449047613851,
          83.45071366223051,
          83.07287415884387,
          84.00972086224418,
          84.16942870037951,
          84.15455718310712,
          84.77710233193967,
          84.58459596029002,
          85.75277257289511,
          85.76015982280501,
          85.81423751561991,
          86.49039870850177,
          86.7646748595377,
          87.04768865753287,
          87.34247885131484,
          88.00042022259844,
          88.26299831249509,
          88.7949112536851,
          89.95586096654891,
          90.46563375438257,
          90.28615766763545,
          90.79877850880567,
          91.58211898773192,
          91.93542950078839,
          92.2446151358418,
          91.95928774618172,
          92.2917042466733,
          92.88135380984642,
          93.03043720089855,
          92.19765577449094,
          92.38102256306895,
          92.22568301744727,
          91.6650248852736,
          91.80494036364925,
          92.24221175909834,
          91.67643525397752,
          91.15549703973556,
          91.33964833435837,
          91.80921069967975,
          91.86440363863879,
          91.37151334240728,
          90.84529242451462,
          91.00440255961038,
          91.42687179363067,
          91.41120318703803,
          89.82754209534508,
          88.19957365522775,
          87.25260096412553,
          86.97516096885124,
          86.49245459211275,
          83.33325594939649,
          82.92622065758601,
          82.46978587029865,
          80.60994061127505,
          79.5457658516319,
          79.70378622218989,
          79.48682451876141,
          78.44238125352342,
          77.82799192862919,
          77.94924631786938,
          78.384863853578,
          78.4346251356007,
          78.07567301235733,
          77.91243615247339,
          78.46936066722476,
          78.60966073394387,
          77.90576066830201,
          78.14483913130708,
          78.28388996901818,
          77.77768196150728,
          78.51633030697674,
          78.15113463921817,
          78.00772955410484,
          78.60179344929142,
          79.12432867048489,
          80.24442507603689,
          80.54171313223992,
          81.04955918719546,
          81.8269822318722,
          82.17202502578164,
          82.43230648272426,
          82.12032610362282,
          82.4786302784323,
          83.0886085093583,
          83.25291581021534,
          82.45023969063286,
          83.14074970568018,
          83.03282823274976,
          82.13426378827012,
          82.35842317158965,
          82.88697895122849,
          83.02560815429302,
          82.68083914178119,
          83.11244342624933,
          83.85365916783246,
          84.56029441676387,
          85.10077269032388,
          85.91399525452275,
          86.63810332330625,
          86.33398464340702,
          87.26908369302996,
          86.13756339464452,
          86.14567133865799,
          86.39501142316149,
          83.87765509030396,
          82.81509829724847,
          82.3994660809166,
          82.9185174077196,
          83.08907396321383,
          83.887190146974,
          84.85961642529078,
          86.81148513739545,
          86.94513234619049,
          88.87322714280849,
          90.61381064091204,
          91.80053605368177,
          92.05297217556276,
          91.69104978263108,
          91.06795757055173,
          91.28642194887658,
          91.02330326645358,
          89.29494043535229,
          88.30449686723102,
          87.96074331374216,
          87.51207146768982,
          84.73451077586007,
          84.75687584348522,
          84.57771499466564,
          83.78370734592707,
          83.30739339564235,
          83.59722978251475,
          84.23304488330419,
          84.51401665061132,
          85.03803101546771,
          84.95606167354975,
          85.60725410773559,
          86.56632322420187,
          87.12822501428786,
          87.55643885840982,
          86.617698575155,
          88.21304148321994,
          88.21945287805565,
          88.90980274747426,
          89.86014660917587,
          90.36756255483778,
          90.698350734295,
          89.62267146611617,
          91.04549396435024,
          90.84813583997834,
          91.30809291813755,
          92.0062338608123,
          92.24453411260104,
          92.29417760596391,
          90.93010433854633,
          92.0618774250283,
          91.5751510554444,
          91.75143982009466,
          92.17526445193413,
          92.15184871402576,
          91.95519574451068,
          90.36262153953876,
          91.2856184702367,
          90.6113293255198,
          90.62233121197347
         ]
        },
        {
         "marker": {
          "color": "red"
         },
         "mode": "markers",
         "name": "Dados de Teste",
         "type": "scatter",
         "x": [
          "2025-01-21T00:00:00",
          "2025-01-08T00:00:00",
          "2025-01-06T00:00:00",
          "2024-12-13T00:00:00",
          "2024-12-11T00:00:00",
          "2024-12-06T00:00:00",
          "2024-12-03T00:00:00",
          "2024-12-02T00:00:00",
          "2024-11-26T00:00:00",
          "2024-11-22T00:00:00",
          "2024-11-21T00:00:00",
          "2024-11-19T00:00:00",
          "2024-11-18T00:00:00",
          "2024-11-15T00:00:00",
          "2024-11-11T00:00:00",
          "2024-11-08T00:00:00",
          "2024-11-06T00:00:00",
          "2024-11-01T00:00:00",
          "2024-10-28T00:00:00",
          "2024-10-25T00:00:00",
          "2024-10-21T00:00:00",
          "2024-10-10T00:00:00",
          "2024-10-09T00:00:00",
          "2024-10-07T00:00:00",
          "2024-09-23T00:00:00",
          "2024-09-19T00:00:00",
          "2024-09-17T00:00:00",
          "2024-09-16T00:00:00",
          "2024-09-13T00:00:00",
          "2024-09-10T00:00:00",
          "2024-09-05T00:00:00",
          "2024-09-04T00:00:00",
          "2024-08-30T00:00:00",
          "2024-08-29T00:00:00",
          "2024-08-20T00:00:00",
          "2024-08-06T00:00:00",
          "2024-07-31T00:00:00",
          "2024-07-29T00:00:00",
          "2024-07-25T00:00:00",
          "2024-07-19T00:00:00",
          "2024-07-18T00:00:00",
          "2024-07-16T00:00:00",
          "2024-07-15T00:00:00",
          "2024-06-27T00:00:00",
          "2024-06-21T00:00:00",
          "2024-06-20T00:00:00",
          "2024-06-17T00:00:00",
          "2024-05-30T00:00:00",
          "2024-05-28T00:00:00",
          "2024-05-21T00:00:00",
          "2024-05-14T00:00:00",
          "2024-05-09T00:00:00",
          "2024-05-08T00:00:00",
          "2024-05-03T00:00:00",
          "2024-04-30T00:00:00",
          "2024-04-26T00:00:00",
          "2024-04-24T00:00:00",
          "2024-04-17T00:00:00",
          "2024-04-16T00:00:00",
          "2024-04-10T00:00:00",
          "2024-04-04T00:00:00",
          "2024-04-03T00:00:00",
          "2024-04-02T00:00:00",
          "2024-03-25T00:00:00",
          "2024-03-21T00:00:00",
          "2024-03-04T00:00:00",
          "2024-02-26T00:00:00",
          "2024-02-02T00:00:00",
          "2024-02-01T00:00:00",
          "2024-01-16T00:00:00",
          "2024-01-15T00:00:00",
          "2024-01-12T00:00:00",
          "2024-01-08T00:00:00",
          "2024-01-03T00:00:00",
          "2024-01-02T00:00:00",
          "2023-12-29T00:00:00",
          "2023-12-26T00:00:00",
          "2023-12-20T00:00:00",
          "2023-12-14T00:00:00",
          "2023-12-12T00:00:00",
          "2023-12-04T00:00:00",
          "2023-11-29T00:00:00",
          "2023-11-27T00:00:00",
          "2023-11-24T00:00:00",
          "2023-11-23T00:00:00",
          "2023-11-07T00:00:00",
          "2023-11-06T00:00:00",
          "2023-10-27T00:00:00",
          "2023-10-18T00:00:00",
          "2023-10-09T00:00:00",
          "2023-10-04T00:00:00",
          "2023-09-21T00:00:00",
          "2023-09-20T00:00:00",
          "2023-09-19T00:00:00",
          "2023-09-15T00:00:00",
          "2023-09-14T00:00:00",
          "2023-09-11T00:00:00",
          "2023-08-29T00:00:00",
          "2023-08-17T00:00:00",
          "2023-08-15T00:00:00",
          "2023-08-14T00:00:00",
          "2023-08-11T00:00:00",
          "2023-08-01T00:00:00",
          "2023-07-31T00:00:00",
          "2023-07-28T00:00:00",
          "2023-07-25T00:00:00",
          "2023-07-20T00:00:00",
          "2023-07-19T00:00:00",
          "2023-07-12T00:00:00",
          "2023-07-11T00:00:00",
          "2023-07-07T00:00:00",
          "2023-07-06T00:00:00",
          "2023-07-05T00:00:00",
          "2023-06-30T00:00:00",
          "2023-06-26T00:00:00",
          "2023-06-23T00:00:00",
          "2023-06-22T00:00:00",
          "2023-06-14T00:00:00",
          "2023-05-25T00:00:00",
          "2023-05-24T00:00:00",
          "2023-05-22T00:00:00",
          "2023-05-17T00:00:00",
          "2023-05-15T00:00:00",
          "2023-05-12T00:00:00",
          "2023-05-05T00:00:00",
          "2023-05-04T00:00:00",
          "2023-05-03T00:00:00",
          "2023-04-24T00:00:00",
          "2023-04-18T00:00:00",
          "2023-04-10T00:00:00",
          "2023-04-06T00:00:00",
          "2023-04-04T00:00:00",
          "2023-03-24T00:00:00",
          "2023-03-23T00:00:00",
          "2023-03-20T00:00:00",
          "2023-03-16T00:00:00",
          "2023-03-14T00:00:00",
          "2023-03-13T00:00:00",
          "2023-03-10T00:00:00",
          "2023-03-08T00:00:00",
          "2023-03-06T00:00:00",
          "2023-03-02T00:00:00",
          "2023-02-22T00:00:00",
          "2023-02-20T00:00:00",
          "2023-02-14T00:00:00",
          "2023-02-13T00:00:00",
          "2023-02-07T00:00:00",
          "2023-02-06T00:00:00",
          "2023-02-03T00:00:00",
          "2023-01-30T00:00:00",
          "2023-01-16T00:00:00",
          "2023-01-13T00:00:00",
          "2023-01-11T00:00:00",
          "2023-01-10T00:00:00",
          "2023-01-09T00:00:00"
         ],
         "y": [
          83.18,
          88.44,
          88.1,
          92.13,
          92.81,
          87.63,
          85.91,
          86.18,
          87.36,
          85.39,
          86.16,
          83.66,
          83.44,
          84.29,
          86.58,
          84.82,
          84.08,
          84.18,
          85.52,
          84.88,
          83.88,
          82.2,
          82.98,
          83.99,
          79.76,
          80.21,
          77.97,
          75.47,
          78.31,
          76.24,
          80.97,
          80.23,
          81.1,
          79.82,
          75.75,
          79.49,
          82.42,
          81.22,
          82.4,
          81.74,
          81.46,
          87.31,
          90.73,
          88.4,
          87.86,
          88.28,
          91.21,
          95.2,
          93.58,
          91.79,
          86.37,
          83.94,
          84.7,
          85.92,
          86.28,
          87.93,
          89.31,
          84.01,
          85.34,
          82.98,
          79.62,
          79.38,
          79.54,
          81.31,
          79.54,
          73.56,
          76.76,
          77.99,
          76.66,
          73,
          72.91,
          76.71,
          82.13,
          83.29,
          85.34,
          85.48,
          86.51,
          86.56,
          85.81,
          78.45,
          76.08,
          71.03,
          74.3,
          76.77,
          79.67,
          82.08,
          79.55,
          82.79,
          83.46,
          83.42,
          86.29,
          83.43,
          82.59,
          81.11,
          77.5,
          76.41,
          80.36,
          80.25,
          78,
          76.02,
          77.11,
          79.92,
          85.59,
          85.9,
          88.65,
          91,
          93.59,
          96.37,
          95.29,
          96.07,
          94.64,
          94.17,
          92.93,
          91.82,
          91.04,
          92.22,
          95.16,
          94.35,
          89.43,
          89.28,
          92.04,
          87.99,
          91.43,
          94.22,
          99.34,
          101.13,
          98.81,
          97.22,
          107.19,
          101.82,
          106.51,
          111.51,
          115.86,
          114.96,
          107.74,
          106.98,
          113.95,
          113.4,
          108.54,
          121.8,
          119.78,
          122.21,
          118.25,
          125.78,
          127.44,
          128.47,
          125.68,
          122.2,
          125.53,
          116.41,
          107.7,
          102.61,
          113.86,
          112.11,
          110.53
         ]
        }
       ],
       "layout": {
        "showlegend": true,
        "template": {
         "data": {
          "bar": [
           {
            "error_x": {
             "color": "#2a3f5f"
            },
            "error_y": {
             "color": "#2a3f5f"
            },
            "marker": {
             "line": {
              "color": "#E5ECF6",
              "width": 0.5
             },
             "pattern": {
              "fillmode": "overlay",
              "size": 10,
              "solidity": 0.2
             }
            },
            "type": "bar"
           }
          ],
          "barpolar": [
           {
            "marker": {
             "line": {
              "color": "#E5ECF6",
              "width": 0.5
             },
             "pattern": {
              "fillmode": "overlay",
              "size": 10,
              "solidity": 0.2
             }
            },
            "type": "barpolar"
           }
          ],
          "carpet": [
           {
            "aaxis": {
             "endlinecolor": "#2a3f5f",
             "gridcolor": "white",
             "linecolor": "white",
             "minorgridcolor": "white",
             "startlinecolor": "#2a3f5f"
            },
            "baxis": {
             "endlinecolor": "#2a3f5f",
             "gridcolor": "white",
             "linecolor": "white",
             "minorgridcolor": "white",
             "startlinecolor": "#2a3f5f"
            },
            "type": "carpet"
           }
          ],
          "choropleth": [
           {
            "colorbar": {
             "outlinewidth": 0,
             "ticks": ""
            },
            "type": "choropleth"
           }
          ],
          "contour": [
           {
            "colorbar": {
             "outlinewidth": 0,
             "ticks": ""
            },
            "colorscale": [
             [
              0,
              "#0d0887"
             ],
             [
              0.1111111111111111,
              "#46039f"
             ],
             [
              0.2222222222222222,
              "#7201a8"
             ],
             [
              0.3333333333333333,
              "#9c179e"
             ],
             [
              0.4444444444444444,
              "#bd3786"
             ],
             [
              0.5555555555555556,
              "#d8576b"
             ],
             [
              0.6666666666666666,
              "#ed7953"
             ],
             [
              0.7777777777777778,
              "#fb9f3a"
             ],
             [
              0.8888888888888888,
              "#fdca26"
             ],
             [
              1,
              "#f0f921"
             ]
            ],
            "type": "contour"
           }
          ],
          "contourcarpet": [
           {
            "colorbar": {
             "outlinewidth": 0,
             "ticks": ""
            },
            "type": "contourcarpet"
           }
          ],
          "heatmap": [
           {
            "colorbar": {
             "outlinewidth": 0,
             "ticks": ""
            },
            "colorscale": [
             [
              0,
              "#0d0887"
             ],
             [
              0.1111111111111111,
              "#46039f"
             ],
             [
              0.2222222222222222,
              "#7201a8"
             ],
             [
              0.3333333333333333,
              "#9c179e"
             ],
             [
              0.4444444444444444,
              "#bd3786"
             ],
             [
              0.5555555555555556,
              "#d8576b"
             ],
             [
              0.6666666666666666,
              "#ed7953"
             ],
             [
              0.7777777777777778,
              "#fb9f3a"
             ],
             [
              0.8888888888888888,
              "#fdca26"
             ],
             [
              1,
              "#f0f921"
             ]
            ],
            "type": "heatmap"
           }
          ],
          "heatmapgl": [
           {
            "colorbar": {
             "outlinewidth": 0,
             "ticks": ""
            },
            "colorscale": [
             [
              0,
              "#0d0887"
             ],
             [
              0.1111111111111111,
              "#46039f"
             ],
             [
              0.2222222222222222,
              "#7201a8"
             ],
             [
              0.3333333333333333,
              "#9c179e"
             ],
             [
              0.4444444444444444,
              "#bd3786"
             ],
             [
              0.5555555555555556,
              "#d8576b"
             ],
             [
              0.6666666666666666,
              "#ed7953"
             ],
             [
              0.7777777777777778,
              "#fb9f3a"
             ],
             [
              0.8888888888888888,
              "#fdca26"
             ],
             [
              1,
              "#f0f921"
             ]
            ],
            "type": "heatmapgl"
           }
          ],
          "histogram": [
           {
            "marker": {
             "pattern": {
              "fillmode": "overlay",
              "size": 10,
              "solidity": 0.2
             }
            },
            "type": "histogram"
           }
          ],
          "histogram2d": [
           {
            "colorbar": {
             "outlinewidth": 0,
             "ticks": ""
            },
            "colorscale": [
             [
              0,
              "#0d0887"
             ],
             [
              0.1111111111111111,
              "#46039f"
             ],
             [
              0.2222222222222222,
              "#7201a8"
             ],
             [
              0.3333333333333333,
              "#9c179e"
             ],
             [
              0.4444444444444444,
              "#bd3786"
             ],
             [
              0.5555555555555556,
              "#d8576b"
             ],
             [
              0.6666666666666666,
              "#ed7953"
             ],
             [
              0.7777777777777778,
              "#fb9f3a"
             ],
             [
              0.8888888888888888,
              "#fdca26"
             ],
             [
              1,
              "#f0f921"
             ]
            ],
            "type": "histogram2d"
           }
          ],
          "histogram2dcontour": [
           {
            "colorbar": {
             "outlinewidth": 0,
             "ticks": ""
            },
            "colorscale": [
             [
              0,
              "#0d0887"
             ],
             [
              0.1111111111111111,
              "#46039f"
             ],
             [
              0.2222222222222222,
              "#7201a8"
             ],
             [
              0.3333333333333333,
              "#9c179e"
             ],
             [
              0.4444444444444444,
              "#bd3786"
             ],
             [
              0.5555555555555556,
              "#d8576b"
             ],
             [
              0.6666666666666666,
              "#ed7953"
             ],
             [
              0.7777777777777778,
              "#fb9f3a"
             ],
             [
              0.8888888888888888,
              "#fdca26"
             ],
             [
              1,
              "#f0f921"
             ]
            ],
            "type": "histogram2dcontour"
           }
          ],
          "mesh3d": [
           {
            "colorbar": {
             "outlinewidth": 0,
             "ticks": ""
            },
            "type": "mesh3d"
           }
          ],
          "parcoords": [
           {
            "line": {
             "colorbar": {
              "outlinewidth": 0,
              "ticks": ""
             }
            },
            "type": "parcoords"
           }
          ],
          "pie": [
           {
            "automargin": true,
            "type": "pie"
           }
          ],
          "scatter": [
           {
            "marker": {
             "colorbar": {
              "outlinewidth": 0,
              "ticks": ""
             }
            },
            "type": "scatter"
           }
          ],
          "scatter3d": [
           {
            "line": {
             "colorbar": {
              "outlinewidth": 0,
              "ticks": ""
             }
            },
            "marker": {
             "colorbar": {
              "outlinewidth": 0,
              "ticks": ""
             }
            },
            "type": "scatter3d"
           }
          ],
          "scattercarpet": [
           {
            "marker": {
             "colorbar": {
              "outlinewidth": 0,
              "ticks": ""
             }
            },
            "type": "scattercarpet"
           }
          ],
          "scattergeo": [
           {
            "marker": {
             "colorbar": {
              "outlinewidth": 0,
              "ticks": ""
             }
            },
            "type": "scattergeo"
           }
          ],
          "scattergl": [
           {
            "marker": {
             "colorbar": {
              "outlinewidth": 0,
              "ticks": ""
             }
            },
            "type": "scattergl"
           }
          ],
          "scattermapbox": [
           {
            "marker": {
             "colorbar": {
              "outlinewidth": 0,
              "ticks": ""
             }
            },
            "type": "scattermapbox"
           }
          ],
          "scatterpolar": [
           {
            "marker": {
             "colorbar": {
              "outlinewidth": 0,
              "ticks": ""
             }
            },
            "type": "scatterpolar"
           }
          ],
          "scatterpolargl": [
           {
            "marker": {
             "colorbar": {
              "outlinewidth": 0,
              "ticks": ""
             }
            },
            "type": "scatterpolargl"
           }
          ],
          "scatterternary": [
           {
            "marker": {
             "colorbar": {
              "outlinewidth": 0,
              "ticks": ""
             }
            },
            "type": "scatterternary"
           }
          ],
          "surface": [
           {
            "colorbar": {
             "outlinewidth": 0,
             "ticks": ""
            },
            "colorscale": [
             [
              0,
              "#0d0887"
             ],
             [
              0.1111111111111111,
              "#46039f"
             ],
             [
              0.2222222222222222,
              "#7201a8"
             ],
             [
              0.3333333333333333,
              "#9c179e"
             ],
             [
              0.4444444444444444,
              "#bd3786"
             ],
             [
              0.5555555555555556,
              "#d8576b"
             ],
             [
              0.6666666666666666,
              "#ed7953"
             ],
             [
              0.7777777777777778,
              "#fb9f3a"
             ],
             [
              0.8888888888888888,
              "#fdca26"
             ],
             [
              1,
              "#f0f921"
             ]
            ],
            "type": "surface"
           }
          ],
          "table": [
           {
            "cells": {
             "fill": {
              "color": "#EBF0F8"
             },
             "line": {
              "color": "white"
             }
            },
            "header": {
             "fill": {
              "color": "#C8D4E3"
             },
             "line": {
              "color": "white"
             }
            },
            "type": "table"
           }
          ]
         },
         "layout": {
          "annotationdefaults": {
           "arrowcolor": "#2a3f5f",
           "arrowhead": 0,
           "arrowwidth": 1
          },
          "autotypenumbers": "strict",
          "coloraxis": {
           "colorbar": {
            "outlinewidth": 0,
            "ticks": ""
           }
          },
          "colorscale": {
           "diverging": [
            [
             0,
             "#8e0152"
            ],
            [
             0.1,
             "#c51b7d"
            ],
            [
             0.2,
             "#de77ae"
            ],
            [
             0.3,
             "#f1b6da"
            ],
            [
             0.4,
             "#fde0ef"
            ],
            [
             0.5,
             "#f7f7f7"
            ],
            [
             0.6,
             "#e6f5d0"
            ],
            [
             0.7,
             "#b8e186"
            ],
            [
             0.8,
             "#7fbc41"
            ],
            [
             0.9,
             "#4d9221"
            ],
            [
             1,
             "#276419"
            ]
           ],
           "sequential": [
            [
             0,
             "#0d0887"
            ],
            [
             0.1111111111111111,
             "#46039f"
            ],
            [
             0.2222222222222222,
             "#7201a8"
            ],
            [
             0.3333333333333333,
             "#9c179e"
            ],
            [
             0.4444444444444444,
             "#bd3786"
            ],
            [
             0.5555555555555556,
             "#d8576b"
            ],
            [
             0.6666666666666666,
             "#ed7953"
            ],
            [
             0.7777777777777778,
             "#fb9f3a"
            ],
            [
             0.8888888888888888,
             "#fdca26"
            ],
            [
             1,
             "#f0f921"
            ]
           ],
           "sequentialminus": [
            [
             0,
             "#0d0887"
            ],
            [
             0.1111111111111111,
             "#46039f"
            ],
            [
             0.2222222222222222,
             "#7201a8"
            ],
            [
             0.3333333333333333,
             "#9c179e"
            ],
            [
             0.4444444444444444,
             "#bd3786"
            ],
            [
             0.5555555555555556,
             "#d8576b"
            ],
            [
             0.6666666666666666,
             "#ed7953"
            ],
            [
             0.7777777777777778,
             "#fb9f3a"
            ],
            [
             0.8888888888888888,
             "#fdca26"
            ],
            [
             1,
             "#f0f921"
            ]
           ]
          },
          "colorway": [
           "#636efa",
           "#EF553B",
           "#00cc96",
           "#ab63fa",
           "#FFA15A",
           "#19d3f3",
           "#FF6692",
           "#B6E880",
           "#FF97FF",
           "#FECB52"
          ],
          "font": {
           "color": "#2a3f5f"
          },
          "geo": {
           "bgcolor": "white",
           "lakecolor": "white",
           "landcolor": "#E5ECF6",
           "showlakes": true,
           "showland": true,
           "subunitcolor": "white"
          },
          "hoverlabel": {
           "align": "left"
          },
          "hovermode": "closest",
          "mapbox": {
           "style": "light"
          },
          "paper_bgcolor": "white",
          "plot_bgcolor": "#E5ECF6",
          "polar": {
           "angularaxis": {
            "gridcolor": "white",
            "linecolor": "white",
            "ticks": ""
           },
           "bgcolor": "#E5ECF6",
           "radialaxis": {
            "gridcolor": "white",
            "linecolor": "white",
            "ticks": ""
           }
          },
          "scene": {
           "xaxis": {
            "backgroundcolor": "#E5ECF6",
            "gridcolor": "white",
            "gridwidth": 2,
            "linecolor": "white",
            "showbackground": true,
            "ticks": "",
            "zerolinecolor": "white"
           },
           "yaxis": {
            "backgroundcolor": "#E5ECF6",
            "gridcolor": "white",
            "gridwidth": 2,
            "linecolor": "white",
            "showbackground": true,
            "ticks": "",
            "zerolinecolor": "white"
           },
           "zaxis": {
            "backgroundcolor": "#E5ECF6",
            "gridcolor": "white",
            "gridwidth": 2,
            "linecolor": "white",
            "showbackground": true,
            "ticks": "",
            "zerolinecolor": "white"
           }
          },
          "shapedefaults": {
           "line": {
            "color": "#2a3f5f"
           }
          },
          "ternary": {
           "aaxis": {
            "gridcolor": "white",
            "linecolor": "white",
            "ticks": ""
           },
           "baxis": {
            "gridcolor": "white",
            "linecolor": "white",
            "ticks": ""
           },
           "bgcolor": "#E5ECF6",
           "caxis": {
            "gridcolor": "white",
            "linecolor": "white",
            "ticks": ""
           }
          },
          "title": {
           "x": 0.05
          },
          "xaxis": {
           "automargin": true,
           "gridcolor": "white",
           "linecolor": "white",
           "ticks": "",
           "title": {
            "standoff": 15
           },
           "zerolinecolor": "white",
           "zerolinewidth": 2
          },
          "yaxis": {
           "automargin": true,
           "gridcolor": "white",
           "linecolor": "white",
           "ticks": "",
           "title": {
            "standoff": 15
           },
           "zerolinecolor": "white",
           "zerolinewidth": 2
          }
         }
        },
        "title": {
         "text": "Previsão do Modelo"
        },
        "xaxis": {
         "rangeslider": {
          "visible": true
         },
         "title": {
          "text": "Data"
         },
         "type": "date"
        },
        "yaxis": {
         "title": {
          "text": "Valor"
         }
        }
       }
      },
      "text/html": [
       "<div>                            <div id=\"a52a7ef1-7fa3-4e1d-9f16-5abc3c0ff6c0\" class=\"plotly-graph-div\" style=\"height:525px; width:100%;\"></div>            <script type=\"text/javascript\">                require([\"plotly\"], function(Plotly) {                    window.PLOTLYENV=window.PLOTLYENV || {};                                    if (document.getElementById(\"a52a7ef1-7fa3-4e1d-9f16-5abc3c0ff6c0\")) {                    Plotly.newPlot(                        \"a52a7ef1-7fa3-4e1d-9f16-5abc3c0ff6c0\",                        [{\"mode\":\"lines\",\"name\":\"Previs\\u00e3o\",\"x\":[\"2023-01-02T00:00:00\",\"2023-01-03T00:00:00\",\"2023-01-04T00:00:00\",\"2023-01-05T00:00:00\",\"2023-01-06T00:00:00\",\"2023-01-12T00:00:00\",\"2023-01-17T00:00:00\",\"2023-01-18T00:00:00\",\"2023-01-19T00:00:00\",\"2023-01-20T00:00:00\",\"2023-01-23T00:00:00\",\"2023-01-24T00:00:00\",\"2023-01-25T00:00:00\",\"2023-01-26T00:00:00\",\"2023-01-27T00:00:00\",\"2023-01-31T00:00:00\",\"2023-02-01T00:00:00\",\"2023-02-02T00:00:00\",\"2023-02-08T00:00:00\",\"2023-02-09T00:00:00\",\"2023-02-10T00:00:00\",\"2023-02-15T00:00:00\",\"2023-02-16T00:00:00\",\"2023-02-17T00:00:00\",\"2023-02-21T00:00:00\",\"2023-02-23T00:00:00\",\"2023-02-24T00:00:00\",\"2023-02-27T00:00:00\",\"2023-02-28T00:00:00\",\"2023-03-01T00:00:00\",\"2023-03-03T00:00:00\",\"2023-03-07T00:00:00\",\"2023-03-09T00:00:00\",\"2023-03-15T00:00:00\",\"2023-03-17T00:00:00\",\"2023-03-21T00:00:00\",\"2023-03-22T00:00:00\",\"2023-03-27T00:00:00\",\"2023-03-28T00:00:00\",\"2023-03-29T00:00:00\",\"2023-03-30T00:00:00\",\"2023-03-31T00:00:00\",\"2023-04-03T00:00:00\",\"2023-04-05T00:00:00\",\"2023-04-11T00:00:00\",\"2023-04-12T00:00:00\",\"2023-04-13T00:00:00\",\"2023-04-14T00:00:00\",\"2023-04-17T00:00:00\",\"2023-04-19T00:00:00\",\"2023-04-20T00:00:00\",\"2023-04-21T00:00:00\",\"2023-04-25T00:00:00\",\"2023-04-26T00:00:00\",\"2023-04-27T00:00:00\",\"2023-04-28T00:00:00\",\"2023-05-02T00:00:00\",\"2023-05-09T00:00:00\",\"2023-05-10T00:00:00\",\"2023-05-11T00:00:00\",\"2023-05-16T00:00:00\",\"2023-05-18T00:00:00\",\"2023-05-19T00:00:00\",\"2023-05-23T00:00:00\",\"2023-05-26T00:00:00\",\"2023-05-30T00:00:00\",\"2023-05-31T00:00:00\",\"2023-06-01T00:00:00\",\"2023-06-02T00:00:00\",\"2023-06-05T00:00:00\",\"2023-06-06T00:00:00\",\"2023-06-07T00:00:00\",\"2023-06-08T00:00:00\",\"2023-06-09T00:00:00\",\"2023-06-12T00:00:00\",\"2023-06-13T00:00:00\",\"2023-06-15T00:00:00\",\"2023-06-16T00:00:00\",\"2023-06-19T00:00:00\",\"2023-06-20T00:00:00\",\"2023-06-21T00:00:00\",\"2023-06-27T00:00:00\",\"2023-06-28T00:00:00\",\"2023-06-29T00:00:00\",\"2023-07-03T00:00:00\",\"2023-07-04T00:00:00\",\"2023-07-08T00:00:00\",\"2023-07-10T00:00:00\",\"2023-07-13T00:00:00\",\"2023-07-14T00:00:00\",\"2023-07-15T00:00:00\",\"2023-07-17T00:00:00\",\"2023-07-18T00:00:00\",\"2023-07-21T00:00:00\",\"2023-07-24T00:00:00\",\"2023-07-26T00:00:00\",\"2023-07-27T00:00:00\",\"2023-08-02T00:00:00\",\"2023-08-03T00:00:00\",\"2023-08-04T00:00:00\",\"2023-08-07T00:00:00\",\"2023-08-08T00:00:00\",\"2023-08-09T00:00:00\",\"2023-08-10T00:00:00\",\"2023-08-16T00:00:00\",\"2023-08-18T00:00:00\",\"2023-08-21T00:00:00\",\"2023-08-22T00:00:00\",\"2023-08-23T00:00:00\",\"2023-08-24T00:00:00\",\"2023-08-25T00:00:00\",\"2023-08-30T00:00:00\",\"2023-08-31T00:00:00\",\"2023-09-04T00:00:00\",\"2023-09-05T00:00:00\",\"2023-09-06T00:00:00\",\"2023-09-07T00:00:00\",\"2023-09-08T00:00:00\",\"2023-09-12T00:00:00\",\"2023-09-13T00:00:00\",\"2023-09-18T00:00:00\",\"2023-09-22T00:00:00\",\"2023-09-25T00:00:00\",\"2023-09-26T00:00:00\",\"2023-09-27T00:00:00\",\"2023-09-28T00:00:00\",\"2023-09-29T00:00:00\",\"2023-10-02T00:00:00\",\"2023-10-03T00:00:00\",\"2023-10-05T00:00:00\",\"2023-10-06T00:00:00\",\"2023-10-10T00:00:00\",\"2023-10-11T00:00:00\",\"2023-10-12T00:00:00\",\"2023-10-13T00:00:00\",\"2023-10-16T00:00:00\",\"2023-10-17T00:00:00\",\"2023-10-19T00:00:00\",\"2023-10-20T00:00:00\",\"2023-10-23T00:00:00\",\"2023-10-24T00:00:00\",\"2023-10-25T00:00:00\",\"2023-10-26T00:00:00\",\"2023-10-30T00:00:00\",\"2023-11-08T00:00:00\",\"2023-11-09T00:00:00\",\"2023-11-10T00:00:00\",\"2023-11-13T00:00:00\",\"2023-11-14T00:00:00\",\"2023-11-15T00:00:00\",\"2023-11-16T00:00:00\",\"2023-11-17T00:00:00\",\"2023-11-20T00:00:00\",\"2023-11-21T00:00:00\",\"2023-11-22T00:00:00\",\"2023-11-28T00:00:00\",\"2023-11-30T00:00:00\",\"2023-12-01T00:00:00\",\"2023-12-05T00:00:00\",\"2023-12-06T00:00:00\",\"2023-12-07T00:00:00\",\"2023-12-08T00:00:00\",\"2023-12-11T00:00:00\",\"2023-12-13T00:00:00\",\"2023-12-15T00:00:00\",\"2023-12-18T00:00:00\",\"2023-12-19T00:00:00\",\"2023-12-21T00:00:00\",\"2023-12-22T00:00:00\",\"2023-12-27T00:00:00\",\"2023-12-28T00:00:00\",\"2024-01-04T00:00:00\",\"2024-01-05T00:00:00\",\"2024-01-09T00:00:00\",\"2024-01-10T00:00:00\",\"2024-01-11T00:00:00\",\"2024-01-17T00:00:00\",\"2024-01-18T00:00:00\",\"2024-01-19T00:00:00\",\"2024-01-22T00:00:00\",\"2024-01-23T00:00:00\",\"2024-01-24T00:00:00\",\"2024-01-25T00:00:00\",\"2024-01-26T00:00:00\",\"2024-01-29T00:00:00\",\"2024-01-30T00:00:00\",\"2024-01-31T00:00:00\",\"2024-02-05T00:00:00\",\"2024-02-06T00:00:00\",\"2024-02-07T00:00:00\",\"2024-02-08T00:00:00\",\"2024-02-09T00:00:00\",\"2024-02-12T00:00:00\",\"2024-02-13T00:00:00\",\"2024-02-14T00:00:00\",\"2024-02-15T00:00:00\",\"2024-02-16T00:00:00\",\"2024-02-19T00:00:00\",\"2024-02-20T00:00:00\",\"2024-02-21T00:00:00\",\"2024-02-22T00:00:00\",\"2024-02-23T00:00:00\",\"2024-02-27T00:00:00\",\"2024-02-28T00:00:00\",\"2024-02-29T00:00:00\",\"2024-03-01T00:00:00\",\"2024-03-05T00:00:00\",\"2024-03-06T00:00:00\",\"2024-03-07T00:00:00\",\"2024-03-08T00:00:00\",\"2024-03-11T00:00:00\",\"2024-03-12T00:00:00\",\"2024-03-13T00:00:00\",\"2024-03-14T00:00:00\",\"2024-03-15T00:00:00\",\"2024-03-18T00:00:00\",\"2024-03-19T00:00:00\",\"2024-03-20T00:00:00\",\"2024-03-22T00:00:00\",\"2024-03-26T00:00:00\",\"2024-03-27T00:00:00\",\"2024-03-28T00:00:00\",\"2024-04-05T00:00:00\",\"2024-04-08T00:00:00\",\"2024-04-09T00:00:00\",\"2024-04-11T00:00:00\",\"2024-04-12T00:00:00\",\"2024-04-15T00:00:00\",\"2024-04-18T00:00:00\",\"2024-04-19T00:00:00\",\"2024-04-22T00:00:00\",\"2024-04-23T00:00:00\",\"2024-04-25T00:00:00\",\"2024-04-29T00:00:00\",\"2024-05-01T00:00:00\",\"2024-05-02T00:00:00\",\"2024-05-07T00:00:00\",\"2024-05-10T00:00:00\",\"2024-05-13T00:00:00\",\"2024-05-15T00:00:00\",\"2024-05-16T00:00:00\",\"2024-05-17T00:00:00\",\"2024-05-20T00:00:00\",\"2024-05-22T00:00:00\",\"2024-05-23T00:00:00\",\"2024-05-24T00:00:00\",\"2024-05-29T00:00:00\",\"2024-05-31T00:00:00\",\"2024-06-03T00:00:00\",\"2024-06-04T00:00:00\",\"2024-06-05T00:00:00\",\"2024-06-06T00:00:00\",\"2024-06-07T00:00:00\",\"2024-06-10T00:00:00\",\"2024-06-11T00:00:00\",\"2024-06-12T00:00:00\",\"2024-06-13T00:00:00\",\"2024-06-14T00:00:00\",\"2024-06-18T00:00:00\",\"2024-06-19T00:00:00\",\"2024-06-24T00:00:00\",\"2024-06-25T00:00:00\",\"2024-06-26T00:00:00\",\"2024-06-28T00:00:00\",\"2024-07-01T00:00:00\",\"2024-07-02T00:00:00\",\"2024-07-03T00:00:00\",\"2024-07-04T00:00:00\",\"2024-07-05T00:00:00\",\"2024-07-08T00:00:00\",\"2024-07-09T00:00:00\",\"2024-07-10T00:00:00\",\"2024-07-11T00:00:00\",\"2024-07-12T00:00:00\",\"2024-07-17T00:00:00\",\"2024-07-22T00:00:00\",\"2024-07-23T00:00:00\",\"2024-07-24T00:00:00\",\"2024-07-26T00:00:00\",\"2024-07-30T00:00:00\",\"2024-08-01T00:00:00\",\"2024-08-02T00:00:00\",\"2024-08-05T00:00:00\",\"2024-08-07T00:00:00\",\"2024-08-08T00:00:00\",\"2024-08-09T00:00:00\",\"2024-08-12T00:00:00\",\"2024-08-13T00:00:00\",\"2024-08-14T00:00:00\",\"2024-08-15T00:00:00\",\"2024-08-16T00:00:00\",\"2024-08-19T00:00:00\",\"2024-08-21T00:00:00\",\"2024-08-22T00:00:00\",\"2024-08-23T00:00:00\",\"2024-08-27T00:00:00\",\"2024-08-28T00:00:00\",\"2024-09-02T00:00:00\",\"2024-09-03T00:00:00\",\"2024-09-06T00:00:00\",\"2024-09-09T00:00:00\",\"2024-09-11T00:00:00\",\"2024-09-12T00:00:00\",\"2024-09-18T00:00:00\",\"2024-09-20T00:00:00\",\"2024-09-24T00:00:00\",\"2024-09-25T00:00:00\",\"2024-09-26T00:00:00\",\"2024-09-27T00:00:00\",\"2024-09-30T00:00:00\",\"2024-10-01T00:00:00\",\"2024-10-02T00:00:00\",\"2024-10-03T00:00:00\",\"2024-10-04T00:00:00\",\"2024-10-08T00:00:00\",\"2024-10-11T00:00:00\",\"2024-10-12T00:00:00\",\"2024-10-15T00:00:00\",\"2024-10-16T00:00:00\",\"2024-10-17T00:00:00\",\"2024-10-18T00:00:00\",\"2024-10-22T00:00:00\",\"2024-10-23T00:00:00\",\"2024-10-24T00:00:00\",\"2024-10-29T00:00:00\",\"2024-10-30T00:00:00\",\"2024-10-31T00:00:00\",\"2024-11-04T00:00:00\",\"2024-11-05T00:00:00\",\"2024-11-07T00:00:00\",\"2024-11-12T00:00:00\",\"2024-11-13T00:00:00\",\"2024-11-14T00:00:00\",\"2024-11-20T00:00:00\",\"2024-11-25T00:00:00\",\"2024-11-27T00:00:00\",\"2024-11-28T00:00:00\",\"2024-11-29T00:00:00\",\"2024-12-04T00:00:00\",\"2024-12-05T00:00:00\",\"2024-12-09T00:00:00\",\"2024-12-10T00:00:00\",\"2024-12-12T00:00:00\",\"2024-12-16T00:00:00\",\"2024-12-19T00:00:00\",\"2024-12-20T00:00:00\",\"2024-12-23T00:00:00\",\"2024-12-24T00:00:00\",\"2024-12-26T00:00:00\",\"2024-12-27T00:00:00\",\"2024-12-30T00:00:00\",\"2024-12-31T00:00:00\",\"2025-01-02T00:00:00\",\"2025-01-03T00:00:00\",\"2025-01-07T00:00:00\",\"2025-01-09T00:00:00\",\"2025-01-10T00:00:00\",\"2025-01-13T00:00:00\",\"2025-01-14T00:00:00\",\"2025-01-15T00:00:00\",\"2025-01-16T00:00:00\",\"2025-01-17T00:00:00\",\"2025-01-20T00:00:00\",\"2025-01-21T00:00:00\",\"2025-01-22T00:00:00\",\"2025-01-23T00:00:00\",\"2025-01-24T00:00:00\",\"2025-01-25T00:00:00\",\"2025-01-26T00:00:00\",\"2025-01-27T00:00:00\",\"2025-01-28T00:00:00\",\"2025-01-29T00:00:00\",\"2025-01-30T00:00:00\",\"2025-01-31T00:00:00\",\"2025-02-01T00:00:00\",\"2025-02-02T00:00:00\",\"2025-02-03T00:00:00\",\"2025-02-04T00:00:00\",\"2025-02-05T00:00:00\",\"2025-02-06T00:00:00\",\"2025-02-07T00:00:00\",\"2025-02-08T00:00:00\",\"2025-02-09T00:00:00\",\"2025-02-10T00:00:00\",\"2025-02-11T00:00:00\",\"2025-02-12T00:00:00\",\"2025-02-13T00:00:00\",\"2025-02-14T00:00:00\",\"2025-02-15T00:00:00\",\"2025-02-16T00:00:00\",\"2025-02-17T00:00:00\",\"2025-02-18T00:00:00\",\"2025-02-19T00:00:00\"],\"y\":[114.81605643317005,113.82781274485356,113.54681225553604,113.56474986736148,113.19324879549781,111.30809168814328,110.82194955163429,111.29475877158305,112.10398786280821,112.54656436286251,113.46669905249406,113.48296176000333,114.21424742291877,115.23506119928318,115.8404887174041,116.93685200584963,117.59178917710436,118.49495830954626,119.51114051641633,120.12895265657325,120.28885005678977,119.47497114135389,119.85511553784234,119.79616102344144,117.32916798714461,117.2077460370034,116.86956500745151,115.23594814275333,114.36094876857577,114.19620986036733,114.051102614444,111.9043877798028,112.08963566592104,110.28598071204749,110.55784416254434,109.13367948623686,109.22140249380142,108.6886811565374,108.04204601841965,108.08334655689026,108.39346027316373,108.27391814771464,107.1887501819334,106.40409962930943,104.2830818321245,104.17375713855722,104.34211117242543,104.0918811898383,102.698311284069,101.78837517362882,101.97028097665587,101.74027602076548,99.66283789391291,99.59372864901121,99.80894623924739,99.61006343421876,97.61950516915515,95.58583830704346,95.5268993934279,95.75183336136102,93.68629613883719,93.97996126502312,93.87517470248561,92.44480346285948,93.05627615120638,92.19152882406199,92.44932844866898,92.99671251194978,93.13284677578987,92.89584745661953,92.65359448993962,93.09943655342605,93.81225544455111,94.09165070520753,94.16338540986925,93.79552985795553,94.66767601973083,94.79241618371944,94.3949219854122,93.88001930579415,94.05026370044033,93.32706141168016,93.47641178265418,93.91228956380625,93.41318626692268,92.90423901465385,93.54405796653162,93.12979539218556,93.13165619310952,93.08895003136075,92.87120218106797,92.12974378212888,91.39368759056178,91.20302516960459,89.49140739448089,88.20848742588682,88.1649509804968,84.21027178255684,84.1805328876006,83.75796349750127,82.03239065318817,81.18457333427912,81.07672325021706,81.29182116304915,79.85663207706202,80.41788165952346,80.13043917534984,79.70800558116842,79.98765778430342,80.54751752349783,80.68659655245803,80.17926238042087,80.67821665531068,80.29066616662573,79.7885484083405,79.98995879583218,80.48023615374234,80.53152714945581,79.70582870618493,79.99488425414583,80.91369971393583,82.19542858135993,82.59281816058608,82.36882204229333,82.83146808187736,83.55845534909535,83.8483323860896,83.92183867869046,83.46775099264913,84.15154085104459,84.17555149586948,82.84723861892803,82.9194909353767,83.26822517282388,83.20092881630204,82.4098938581908,81.83447495028477,82.43910039209398,82.5089143040514,82.26368267722215,81.89760845303277,82.2586104855816,82.92519489342722,83.42976048141814,84.13525057094341,84.55047043671654,84.49721519567915,83.38992146470966,82.58252028127686,82.43588470550672,82.53803295073509,82.19835766135641,80.46566701787074,79.54845152174497,79.3491090880845,77.40632777785437,78.05399371977471,78.20548310225124,78.26510872715897,78.8628910786662,79.7858741550333,80.32774927624905,81.42442106483104,82.15318091927841,83.62044728027779,84.18635149029147,83.90037602371449,84.78385313595086,84.83182842879548,82.85157004384926,82.88486384690643,78.59393756674322,78.05720310646467,75.03818791353824,74.8441316277852,74.99121202265279,73.69157441406503,74.2982206054569,74.5447778931019,74.92413416929553,74.77765335733316,75.35538462566645,76.23182928505815,76.70190456253017,77.45807801491704,77.33862645182047,77.89596459717198,79.28766011524321,78.9319069994011,79.23235381366135,79.7707097164737,79.8497391091059,79.19926167627735,78.56185109513454,78.59084356644495,78.87109121675412,78.70806774606626,77.44818447951162,76.89008194400226,77.02142110841385,77.42724642163304,77.41288796649586,76.16892981262508,76.31409974256601,76.75096392817548,76.78336087400844,75.8518367558577,76.09831176481903,76.64248776166704,76.86307115763422,76.9759596434464,76.69696203562356,77.1304626197156,77.85709814646437,78.17778023321418,78.54373070358662,78.32984491147533,78.81738077798003,79.93703588307264,80.08295066123922,80.53810789175118,81.26332267418591,82.61497903090164,82.52145116586206,82.1258962023156,82.99558057360571,83.14791300495722,82.9520434924543,83.41044515506067,83.57449047613851,83.45071366223051,83.07287415884387,84.00972086224418,84.16942870037951,84.15455718310712,84.77710233193967,84.58459596029002,85.75277257289511,85.76015982280501,85.81423751561991,86.49039870850177,86.7646748595377,87.04768865753287,87.34247885131484,88.00042022259844,88.26299831249509,88.7949112536851,89.95586096654891,90.46563375438257,90.28615766763545,90.79877850880567,91.58211898773192,91.93542950078839,92.2446151358418,91.95928774618172,92.2917042466733,92.88135380984642,93.03043720089855,92.19765577449094,92.38102256306895,92.22568301744727,91.6650248852736,91.80494036364925,92.24221175909834,91.67643525397752,91.15549703973556,91.33964833435837,91.80921069967975,91.86440363863879,91.37151334240728,90.84529242451462,91.00440255961038,91.42687179363067,91.41120318703803,89.82754209534508,88.19957365522775,87.25260096412553,86.97516096885124,86.49245459211275,83.33325594939649,82.92622065758601,82.46978587029865,80.60994061127505,79.5457658516319,79.70378622218989,79.48682451876141,78.44238125352342,77.82799192862919,77.94924631786938,78.384863853578,78.4346251356007,78.07567301235733,77.91243615247339,78.46936066722476,78.60966073394387,77.90576066830201,78.14483913130708,78.28388996901818,77.77768196150728,78.51633030697674,78.15113463921817,78.00772955410484,78.60179344929142,79.12432867048489,80.24442507603689,80.54171313223992,81.04955918719546,81.8269822318722,82.17202502578164,82.43230648272426,82.12032610362282,82.4786302784323,83.0886085093583,83.25291581021534,82.45023969063286,83.14074970568018,83.03282823274976,82.13426378827012,82.35842317158965,82.88697895122849,83.02560815429302,82.68083914178119,83.11244342624933,83.85365916783246,84.56029441676387,85.10077269032388,85.91399525452275,86.63810332330625,86.33398464340702,87.26908369302996,86.13756339464452,86.14567133865799,86.39501142316149,83.87765509030396,82.81509829724847,82.3994660809166,82.9185174077196,83.08907396321383,83.887190146974,84.85961642529078,86.81148513739545,86.94513234619049,88.87322714280849,90.61381064091204,91.80053605368177,92.05297217556276,91.69104978263108,91.06795757055173,91.28642194887658,91.02330326645358,89.29494043535229,88.30449686723102,87.96074331374216,87.51207146768982,84.73451077586007,84.75687584348522,84.57771499466564,83.78370734592707,83.30739339564235,83.59722978251475,84.23304488330419,84.51401665061132,85.03803101546771,84.95606167354975,85.60725410773559,86.56632322420187,87.12822501428786,87.55643885840982,86.617698575155,88.21304148321994,88.21945287805565,88.90980274747426,89.86014660917587,90.36756255483778,90.698350734295,89.62267146611617,91.04549396435024,90.84813583997834,91.30809291813755,92.0062338608123,92.24453411260104,92.29417760596391,90.93010433854633,92.0618774250283,91.5751510554444,91.75143982009466,92.17526445193413,92.15184871402576,91.95519574451068,90.36262153953876,91.2856184702367,90.6113293255198,90.62233121197347],\"type\":\"scatter\"},{\"marker\":{\"color\":\"red\"},\"mode\":\"markers\",\"name\":\"Dados de Teste\",\"x\":[\"2025-01-21T00:00:00\",\"2025-01-08T00:00:00\",\"2025-01-06T00:00:00\",\"2024-12-13T00:00:00\",\"2024-12-11T00:00:00\",\"2024-12-06T00:00:00\",\"2024-12-03T00:00:00\",\"2024-12-02T00:00:00\",\"2024-11-26T00:00:00\",\"2024-11-22T00:00:00\",\"2024-11-21T00:00:00\",\"2024-11-19T00:00:00\",\"2024-11-18T00:00:00\",\"2024-11-15T00:00:00\",\"2024-11-11T00:00:00\",\"2024-11-08T00:00:00\",\"2024-11-06T00:00:00\",\"2024-11-01T00:00:00\",\"2024-10-28T00:00:00\",\"2024-10-25T00:00:00\",\"2024-10-21T00:00:00\",\"2024-10-10T00:00:00\",\"2024-10-09T00:00:00\",\"2024-10-07T00:00:00\",\"2024-09-23T00:00:00\",\"2024-09-19T00:00:00\",\"2024-09-17T00:00:00\",\"2024-09-16T00:00:00\",\"2024-09-13T00:00:00\",\"2024-09-10T00:00:00\",\"2024-09-05T00:00:00\",\"2024-09-04T00:00:00\",\"2024-08-30T00:00:00\",\"2024-08-29T00:00:00\",\"2024-08-20T00:00:00\",\"2024-08-06T00:00:00\",\"2024-07-31T00:00:00\",\"2024-07-29T00:00:00\",\"2024-07-25T00:00:00\",\"2024-07-19T00:00:00\",\"2024-07-18T00:00:00\",\"2024-07-16T00:00:00\",\"2024-07-15T00:00:00\",\"2024-06-27T00:00:00\",\"2024-06-21T00:00:00\",\"2024-06-20T00:00:00\",\"2024-06-17T00:00:00\",\"2024-05-30T00:00:00\",\"2024-05-28T00:00:00\",\"2024-05-21T00:00:00\",\"2024-05-14T00:00:00\",\"2024-05-09T00:00:00\",\"2024-05-08T00:00:00\",\"2024-05-03T00:00:00\",\"2024-04-30T00:00:00\",\"2024-04-26T00:00:00\",\"2024-04-24T00:00:00\",\"2024-04-17T00:00:00\",\"2024-04-16T00:00:00\",\"2024-04-10T00:00:00\",\"2024-04-04T00:00:00\",\"2024-04-03T00:00:00\",\"2024-04-02T00:00:00\",\"2024-03-25T00:00:00\",\"2024-03-21T00:00:00\",\"2024-03-04T00:00:00\",\"2024-02-26T00:00:00\",\"2024-02-02T00:00:00\",\"2024-02-01T00:00:00\",\"2024-01-16T00:00:00\",\"2024-01-15T00:00:00\",\"2024-01-12T00:00:00\",\"2024-01-08T00:00:00\",\"2024-01-03T00:00:00\",\"2024-01-02T00:00:00\",\"2023-12-29T00:00:00\",\"2023-12-26T00:00:00\",\"2023-12-20T00:00:00\",\"2023-12-14T00:00:00\",\"2023-12-12T00:00:00\",\"2023-12-04T00:00:00\",\"2023-11-29T00:00:00\",\"2023-11-27T00:00:00\",\"2023-11-24T00:00:00\",\"2023-11-23T00:00:00\",\"2023-11-07T00:00:00\",\"2023-11-06T00:00:00\",\"2023-10-27T00:00:00\",\"2023-10-18T00:00:00\",\"2023-10-09T00:00:00\",\"2023-10-04T00:00:00\",\"2023-09-21T00:00:00\",\"2023-09-20T00:00:00\",\"2023-09-19T00:00:00\",\"2023-09-15T00:00:00\",\"2023-09-14T00:00:00\",\"2023-09-11T00:00:00\",\"2023-08-29T00:00:00\",\"2023-08-17T00:00:00\",\"2023-08-15T00:00:00\",\"2023-08-14T00:00:00\",\"2023-08-11T00:00:00\",\"2023-08-01T00:00:00\",\"2023-07-31T00:00:00\",\"2023-07-28T00:00:00\",\"2023-07-25T00:00:00\",\"2023-07-20T00:00:00\",\"2023-07-19T00:00:00\",\"2023-07-12T00:00:00\",\"2023-07-11T00:00:00\",\"2023-07-07T00:00:00\",\"2023-07-06T00:00:00\",\"2023-07-05T00:00:00\",\"2023-06-30T00:00:00\",\"2023-06-26T00:00:00\",\"2023-06-23T00:00:00\",\"2023-06-22T00:00:00\",\"2023-06-14T00:00:00\",\"2023-05-25T00:00:00\",\"2023-05-24T00:00:00\",\"2023-05-22T00:00:00\",\"2023-05-17T00:00:00\",\"2023-05-15T00:00:00\",\"2023-05-12T00:00:00\",\"2023-05-05T00:00:00\",\"2023-05-04T00:00:00\",\"2023-05-03T00:00:00\",\"2023-04-24T00:00:00\",\"2023-04-18T00:00:00\",\"2023-04-10T00:00:00\",\"2023-04-06T00:00:00\",\"2023-04-04T00:00:00\",\"2023-03-24T00:00:00\",\"2023-03-23T00:00:00\",\"2023-03-20T00:00:00\",\"2023-03-16T00:00:00\",\"2023-03-14T00:00:00\",\"2023-03-13T00:00:00\",\"2023-03-10T00:00:00\",\"2023-03-08T00:00:00\",\"2023-03-06T00:00:00\",\"2023-03-02T00:00:00\",\"2023-02-22T00:00:00\",\"2023-02-20T00:00:00\",\"2023-02-14T00:00:00\",\"2023-02-13T00:00:00\",\"2023-02-07T00:00:00\",\"2023-02-06T00:00:00\",\"2023-02-03T00:00:00\",\"2023-01-30T00:00:00\",\"2023-01-16T00:00:00\",\"2023-01-13T00:00:00\",\"2023-01-11T00:00:00\",\"2023-01-10T00:00:00\",\"2023-01-09T00:00:00\"],\"y\":[83.18,88.44,88.1,92.13,92.81,87.63,85.91,86.18,87.36,85.39,86.16,83.66,83.44,84.29,86.58,84.82,84.08,84.18,85.52,84.88,83.88,82.2,82.98,83.99,79.76,80.21,77.97,75.47,78.31,76.24,80.97,80.23,81.1,79.82,75.75,79.49,82.42,81.22,82.4,81.74,81.46,87.31,90.73,88.4,87.86,88.28,91.21,95.2,93.58,91.79,86.37,83.94,84.7,85.92,86.28,87.93,89.31,84.01,85.34,82.98,79.62,79.38,79.54,81.31,79.54,73.56,76.76,77.99,76.66,73.0,72.91,76.71,82.13,83.29,85.34,85.48,86.51,86.56,85.81,78.45,76.08,71.03,74.3,76.77,79.67,82.08,79.55,82.79,83.46,83.42,86.29,83.43,82.59,81.11,77.5,76.41,80.36,80.25,78.0,76.02,77.11,79.92,85.59,85.9,88.65,91.0,93.59,96.37,95.29,96.07,94.64,94.17,92.93,91.82,91.04,92.22,95.16,94.35,89.43,89.28,92.04,87.99,91.43,94.22,99.34,101.13,98.81,97.22,107.19,101.82,106.51,111.51,115.86,114.96,107.74,106.98,113.95,113.4,108.54,121.8,119.78,122.21,118.25,125.78,127.44,128.47,125.68,122.2,125.53,116.41,107.7,102.61,113.86,112.11,110.53],\"type\":\"scatter\"}],                        {\"template\":{\"data\":{\"bar\":[{\"error_x\":{\"color\":\"#2a3f5f\"},\"error_y\":{\"color\":\"#2a3f5f\"},\"marker\":{\"line\":{\"color\":\"#E5ECF6\",\"width\":0.5},\"pattern\":{\"fillmode\":\"overlay\",\"size\":10,\"solidity\":0.2}},\"type\":\"bar\"}],\"barpolar\":[{\"marker\":{\"line\":{\"color\":\"#E5ECF6\",\"width\":0.5},\"pattern\":{\"fillmode\":\"overlay\",\"size\":10,\"solidity\":0.2}},\"type\":\"barpolar\"}],\"carpet\":[{\"aaxis\":{\"endlinecolor\":\"#2a3f5f\",\"gridcolor\":\"white\",\"linecolor\":\"white\",\"minorgridcolor\":\"white\",\"startlinecolor\":\"#2a3f5f\"},\"baxis\":{\"endlinecolor\":\"#2a3f5f\",\"gridcolor\":\"white\",\"linecolor\":\"white\",\"minorgridcolor\":\"white\",\"startlinecolor\":\"#2a3f5f\"},\"type\":\"carpet\"}],\"choropleth\":[{\"colorbar\":{\"outlinewidth\":0,\"ticks\":\"\"},\"type\":\"choropleth\"}],\"contour\":[{\"colorbar\":{\"outlinewidth\":0,\"ticks\":\"\"},\"colorscale\":[[0.0,\"#0d0887\"],[0.1111111111111111,\"#46039f\"],[0.2222222222222222,\"#7201a8\"],[0.3333333333333333,\"#9c179e\"],[0.4444444444444444,\"#bd3786\"],[0.5555555555555556,\"#d8576b\"],[0.6666666666666666,\"#ed7953\"],[0.7777777777777778,\"#fb9f3a\"],[0.8888888888888888,\"#fdca26\"],[1.0,\"#f0f921\"]],\"type\":\"contour\"}],\"contourcarpet\":[{\"colorbar\":{\"outlinewidth\":0,\"ticks\":\"\"},\"type\":\"contourcarpet\"}],\"heatmap\":[{\"colorbar\":{\"outlinewidth\":0,\"ticks\":\"\"},\"colorscale\":[[0.0,\"#0d0887\"],[0.1111111111111111,\"#46039f\"],[0.2222222222222222,\"#7201a8\"],[0.3333333333333333,\"#9c179e\"],[0.4444444444444444,\"#bd3786\"],[0.5555555555555556,\"#d8576b\"],[0.6666666666666666,\"#ed7953\"],[0.7777777777777778,\"#fb9f3a\"],[0.8888888888888888,\"#fdca26\"],[1.0,\"#f0f921\"]],\"type\":\"heatmap\"}],\"heatmapgl\":[{\"colorbar\":{\"outlinewidth\":0,\"ticks\":\"\"},\"colorscale\":[[0.0,\"#0d0887\"],[0.1111111111111111,\"#46039f\"],[0.2222222222222222,\"#7201a8\"],[0.3333333333333333,\"#9c179e\"],[0.4444444444444444,\"#bd3786\"],[0.5555555555555556,\"#d8576b\"],[0.6666666666666666,\"#ed7953\"],[0.7777777777777778,\"#fb9f3a\"],[0.8888888888888888,\"#fdca26\"],[1.0,\"#f0f921\"]],\"type\":\"heatmapgl\"}],\"histogram\":[{\"marker\":{\"pattern\":{\"fillmode\":\"overlay\",\"size\":10,\"solidity\":0.2}},\"type\":\"histogram\"}],\"histogram2d\":[{\"colorbar\":{\"outlinewidth\":0,\"ticks\":\"\"},\"colorscale\":[[0.0,\"#0d0887\"],[0.1111111111111111,\"#46039f\"],[0.2222222222222222,\"#7201a8\"],[0.3333333333333333,\"#9c179e\"],[0.4444444444444444,\"#bd3786\"],[0.5555555555555556,\"#d8576b\"],[0.6666666666666666,\"#ed7953\"],[0.7777777777777778,\"#fb9f3a\"],[0.8888888888888888,\"#fdca26\"],[1.0,\"#f0f921\"]],\"type\":\"histogram2d\"}],\"histogram2dcontour\":[{\"colorbar\":{\"outlinewidth\":0,\"ticks\":\"\"},\"colorscale\":[[0.0,\"#0d0887\"],[0.1111111111111111,\"#46039f\"],[0.2222222222222222,\"#7201a8\"],[0.3333333333333333,\"#9c179e\"],[0.4444444444444444,\"#bd3786\"],[0.5555555555555556,\"#d8576b\"],[0.6666666666666666,\"#ed7953\"],[0.7777777777777778,\"#fb9f3a\"],[0.8888888888888888,\"#fdca26\"],[1.0,\"#f0f921\"]],\"type\":\"histogram2dcontour\"}],\"mesh3d\":[{\"colorbar\":{\"outlinewidth\":0,\"ticks\":\"\"},\"type\":\"mesh3d\"}],\"parcoords\":[{\"line\":{\"colorbar\":{\"outlinewidth\":0,\"ticks\":\"\"}},\"type\":\"parcoords\"}],\"pie\":[{\"automargin\":true,\"type\":\"pie\"}],\"scatter\":[{\"marker\":{\"colorbar\":{\"outlinewidth\":0,\"ticks\":\"\"}},\"type\":\"scatter\"}],\"scatter3d\":[{\"line\":{\"colorbar\":{\"outlinewidth\":0,\"ticks\":\"\"}},\"marker\":{\"colorbar\":{\"outlinewidth\":0,\"ticks\":\"\"}},\"type\":\"scatter3d\"}],\"scattercarpet\":[{\"marker\":{\"colorbar\":{\"outlinewidth\":0,\"ticks\":\"\"}},\"type\":\"scattercarpet\"}],\"scattergeo\":[{\"marker\":{\"colorbar\":{\"outlinewidth\":0,\"ticks\":\"\"}},\"type\":\"scattergeo\"}],\"scattergl\":[{\"marker\":{\"colorbar\":{\"outlinewidth\":0,\"ticks\":\"\"}},\"type\":\"scattergl\"}],\"scattermapbox\":[{\"marker\":{\"colorbar\":{\"outlinewidth\":0,\"ticks\":\"\"}},\"type\":\"scattermapbox\"}],\"scatterpolar\":[{\"marker\":{\"colorbar\":{\"outlinewidth\":0,\"ticks\":\"\"}},\"type\":\"scatterpolar\"}],\"scatterpolargl\":[{\"marker\":{\"colorbar\":{\"outlinewidth\":0,\"ticks\":\"\"}},\"type\":\"scatterpolargl\"}],\"scatterternary\":[{\"marker\":{\"colorbar\":{\"outlinewidth\":0,\"ticks\":\"\"}},\"type\":\"scatterternary\"}],\"surface\":[{\"colorbar\":{\"outlinewidth\":0,\"ticks\":\"\"},\"colorscale\":[[0.0,\"#0d0887\"],[0.1111111111111111,\"#46039f\"],[0.2222222222222222,\"#7201a8\"],[0.3333333333333333,\"#9c179e\"],[0.4444444444444444,\"#bd3786\"],[0.5555555555555556,\"#d8576b\"],[0.6666666666666666,\"#ed7953\"],[0.7777777777777778,\"#fb9f3a\"],[0.8888888888888888,\"#fdca26\"],[1.0,\"#f0f921\"]],\"type\":\"surface\"}],\"table\":[{\"cells\":{\"fill\":{\"color\":\"#EBF0F8\"},\"line\":{\"color\":\"white\"}},\"header\":{\"fill\":{\"color\":\"#C8D4E3\"},\"line\":{\"color\":\"white\"}},\"type\":\"table\"}]},\"layout\":{\"annotationdefaults\":{\"arrowcolor\":\"#2a3f5f\",\"arrowhead\":0,\"arrowwidth\":1},\"autotypenumbers\":\"strict\",\"coloraxis\":{\"colorbar\":{\"outlinewidth\":0,\"ticks\":\"\"}},\"colorscale\":{\"diverging\":[[0,\"#8e0152\"],[0.1,\"#c51b7d\"],[0.2,\"#de77ae\"],[0.3,\"#f1b6da\"],[0.4,\"#fde0ef\"],[0.5,\"#f7f7f7\"],[0.6,\"#e6f5d0\"],[0.7,\"#b8e186\"],[0.8,\"#7fbc41\"],[0.9,\"#4d9221\"],[1,\"#276419\"]],\"sequential\":[[0.0,\"#0d0887\"],[0.1111111111111111,\"#46039f\"],[0.2222222222222222,\"#7201a8\"],[0.3333333333333333,\"#9c179e\"],[0.4444444444444444,\"#bd3786\"],[0.5555555555555556,\"#d8576b\"],[0.6666666666666666,\"#ed7953\"],[0.7777777777777778,\"#fb9f3a\"],[0.8888888888888888,\"#fdca26\"],[1.0,\"#f0f921\"]],\"sequentialminus\":[[0.0,\"#0d0887\"],[0.1111111111111111,\"#46039f\"],[0.2222222222222222,\"#7201a8\"],[0.3333333333333333,\"#9c179e\"],[0.4444444444444444,\"#bd3786\"],[0.5555555555555556,\"#d8576b\"],[0.6666666666666666,\"#ed7953\"],[0.7777777777777778,\"#fb9f3a\"],[0.8888888888888888,\"#fdca26\"],[1.0,\"#f0f921\"]]},\"colorway\":[\"#636efa\",\"#EF553B\",\"#00cc96\",\"#ab63fa\",\"#FFA15A\",\"#19d3f3\",\"#FF6692\",\"#B6E880\",\"#FF97FF\",\"#FECB52\"],\"font\":{\"color\":\"#2a3f5f\"},\"geo\":{\"bgcolor\":\"white\",\"lakecolor\":\"white\",\"landcolor\":\"#E5ECF6\",\"showlakes\":true,\"showland\":true,\"subunitcolor\":\"white\"},\"hoverlabel\":{\"align\":\"left\"},\"hovermode\":\"closest\",\"mapbox\":{\"style\":\"light\"},\"paper_bgcolor\":\"white\",\"plot_bgcolor\":\"#E5ECF6\",\"polar\":{\"angularaxis\":{\"gridcolor\":\"white\",\"linecolor\":\"white\",\"ticks\":\"\"},\"bgcolor\":\"#E5ECF6\",\"radialaxis\":{\"gridcolor\":\"white\",\"linecolor\":\"white\",\"ticks\":\"\"}},\"scene\":{\"xaxis\":{\"backgroundcolor\":\"#E5ECF6\",\"gridcolor\":\"white\",\"gridwidth\":2,\"linecolor\":\"white\",\"showbackground\":true,\"ticks\":\"\",\"zerolinecolor\":\"white\"},\"yaxis\":{\"backgroundcolor\":\"#E5ECF6\",\"gridcolor\":\"white\",\"gridwidth\":2,\"linecolor\":\"white\",\"showbackground\":true,\"ticks\":\"\",\"zerolinecolor\":\"white\"},\"zaxis\":{\"backgroundcolor\":\"#E5ECF6\",\"gridcolor\":\"white\",\"gridwidth\":2,\"linecolor\":\"white\",\"showbackground\":true,\"ticks\":\"\",\"zerolinecolor\":\"white\"}},\"shapedefaults\":{\"line\":{\"color\":\"#2a3f5f\"}},\"ternary\":{\"aaxis\":{\"gridcolor\":\"white\",\"linecolor\":\"white\",\"ticks\":\"\"},\"baxis\":{\"gridcolor\":\"white\",\"linecolor\":\"white\",\"ticks\":\"\"},\"bgcolor\":\"#E5ECF6\",\"caxis\":{\"gridcolor\":\"white\",\"linecolor\":\"white\",\"ticks\":\"\"}},\"title\":{\"x\":0.05},\"xaxis\":{\"automargin\":true,\"gridcolor\":\"white\",\"linecolor\":\"white\",\"ticks\":\"\",\"title\":{\"standoff\":15},\"zerolinecolor\":\"white\",\"zerolinewidth\":2},\"yaxis\":{\"automargin\":true,\"gridcolor\":\"white\",\"linecolor\":\"white\",\"ticks\":\"\",\"title\":{\"standoff\":15},\"zerolinecolor\":\"white\",\"zerolinewidth\":2}}},\"xaxis\":{\"rangeslider\":{\"visible\":true},\"title\":{\"text\":\"Data\"},\"type\":\"date\"},\"title\":{\"text\":\"Previs\\u00e3o do Modelo\"},\"yaxis\":{\"title\":{\"text\":\"Valor\"}},\"showlegend\":true},                        {\"responsive\": true}                    ).then(function(){\n",
       "                            \n",
       "var gd = document.getElementById('a52a7ef1-7fa3-4e1d-9f16-5abc3c0ff6c0');\n",
       "var x = new MutationObserver(function (mutations, observer) {{\n",
       "        var display = window.getComputedStyle(gd).display;\n",
       "        if (!display || display === 'none') {{\n",
       "            console.log([gd, 'removed!']);\n",
       "            Plotly.purge(gd);\n",
       "            observer.disconnect();\n",
       "        }}\n",
       "}});\n",
       "\n",
       "// Listen for the removal of the full notebook cells\n",
       "var notebookContainer = gd.closest('#notebook-container');\n",
       "if (notebookContainer) {{\n",
       "    x.observe(notebookContainer, {childList: true});\n",
       "}}\n",
       "\n",
       "// Listen for the clearing of the current output cell\n",
       "var outputEl = gd.closest('.output');\n",
       "if (outputEl) {{\n",
       "    x.observe(outputEl, {childList: true});\n",
       "}}\n",
       "\n",
       "                        })                };                });            </script>        </div>"
      ]
     },
     "metadata": {},
     "output_type": "display_data"
    }
   ],
   "source": [
    "import plotly.graph_objects as go\n",
    "\n",
    "# Criar uma figura para o gráfico\n",
    "fig = go.Figure()\n",
    "\n",
    "# Adicionar a série temporal prevista ao gráfico\n",
    "fig.add_trace(go.Scatter(x=previsao['ds'], y=previsao['yhat'], mode='lines', name='Previsão'))\n",
    "\n",
    "# Adicionar os pontos de teste ao gráfico\n",
    "fig.add_trace(go.Scatter(x=test_data['ds'], y=test_data['y'], mode='markers', marker=dict(color='red'), name='Dados de Teste'))\n",
    "\n",
    "# Layout do gráfico\n",
    "fig.update_layout(title='Previsão do Modelo',\n",
    "                  xaxis_title='Data',\n",
    "                  yaxis_title='Valor',\n",
    "                  showlegend=True,\n",
    "                  xaxis=dict(rangeslider=dict(visible=True), type='date'))\n",
    "\n",
    "# Exibir o gráfico\n",
    "fig.show()"
   ]
  },
  {
   "cell_type": "markdown",
   "metadata": {
    "id": "q4r_M6X7jqSU"
   },
   "source": [
    "### Decompondo os dados:"
   ]
  },
  {
   "cell_type": "code",
   "execution_count": 143,
   "metadata": {
    "colab": {
     "base_uri": "https://localhost:8080/",
     "height": 607
    },
    "id": "1enzKB9vjrue",
    "outputId": "d05fc3af-c843-45be-bcbd-fb9384759400"
   },
   "outputs": [
    {
     "data": {
      "image/png": "[encoded data removed]",
      "text/plain": [
       "<Figure size 720x432 with 4 Axes>"
      ]
     },
     "metadata": {},
     "output_type": "display_data"
    }
   ],
   "source": [
    "modelo.plot_components(previsao, figsize=(10,6));"
   ]
  },
  {
   "cell_type": "code",
   "execution_count": 144,
   "metadata": {
    "colab": {
     "base_uri": "https://localhost:8080/"
    },
    "id": "47jCipWKjrn6",
    "outputId": "9d64d189-81c9-4a2b-f3b8-a6596ca68ae5"
   },
   "outputs": [
    {
     "name": "stdout",
     "output_type": "stream",
     "text": [
      "MAPE: 2.84%\n"
     ]
    }
   ],
   "source": [
    "# Extrair as colunas relevantes dos DataFrames\n",
    "previsao_cols = ['ds', 'yhat']\n",
    "valores_reais_cols = ['ds', 'y']\n",
    "\n",
    "previsao = previsao[previsao_cols]\n",
    "valores_reais = train_data[valores_reais_cols]\n",
    "\n",
    "# Mesclar os DataFrames nas colunas 'ds' para comparar previsões e valores reais\n",
    "resultados = pd.merge(previsao, valores_reais, on='ds', how='inner')\n",
    "\n",
    "# Calcular o erro percentual absoluto para cada ponto de dados\n",
    "resultados['erro_percentual_absoluto'] = np.abs((resultados['y'] - resultados['yhat']) / resultados['y']) * 100\n",
    "\n",
    "# Calcular o MAPE\n",
    "mape = np.mean(resultados['erro_percentual_absoluto'])\n",
    "\n",
    "print(f\"MAPE: {mape:.2f}%\")"
   ]
  },
  {
   "cell_type": "code",
   "execution_count": 146,
   "metadata": {
    "colab": {
     "base_uri": "https://localhost:8080/"
    },
    "id": "RJKHrV7CCDDU",
    "outputId": "3ba4e3ee-4c58-4404-dae9-202bc69ec4a0"
   },
   "outputs": [
    {
     "name": "stdout",
     "output_type": "stream",
     "text": [
      "           ds   previsao\n",
      "0  2025-01-22  85.607254\n",
      "1  2025-01-23  86.566323\n",
      "2  2025-01-24  87.128225\n",
      "3  2025-01-25  87.556439\n",
      "4  2025-01-26  86.617699\n",
      "5  2025-01-27  88.213041\n",
      "6  2025-01-28  88.219453\n",
      "7  2025-01-29  88.909803\n",
      "8  2025-01-30  89.860147\n",
      "9  2025-01-31  90.367563\n",
      "10 2025-02-01  90.698351\n",
      "11 2025-02-02  89.622671\n",
      "12 2025-02-03  91.045494\n",
      "13 2025-02-04  90.848136\n",
      "14 2025-02-05  91.308093\n",
      "15 2025-02-06  92.006234\n",
      "16 2025-02-07  92.244534\n",
      "17 2025-02-08  92.294178\n",
      "18 2025-02-09  90.930104\n",
      "19 2025-02-10  92.061877\n",
      "20 2025-02-11  91.575151\n",
      "21 2025-02-12  91.751440\n",
      "22 2025-02-13  92.175264\n",
      "23 2025-02-14  92.151849\n",
      "24 2025-02-15  91.955196\n",
      "25 2025-02-16  90.362622\n",
      "26 2025-02-17  91.285618\n",
      "27 2025-02-18  90.611329\n",
      "28 2025-02-19  90.622331\n"
     ]
    }
   ],
   "source": [
    "import pandas as pd\n",
    "\n",
    "# Gerar datas para os próximos 90 dias\n",
    "data_futuro = pd.date_range(start=df['ds'].max(), periods=30, freq='D')[1:]\n",
    "data_futuro = pd.DataFrame(data_futuro, columns=['ds'])\n",
    "\n",
    "# Fazer previsões para os próximos 90 dias\n",
    "previsao_futuro = modelo.predict(data_futuro)\n",
    "\n",
    "# Selecionar as colunas relevantes\n",
    "tabela_previsao = previsao_futuro[['ds', 'yhat']].rename(columns={'yhat': 'previsao'})\n",
    "\n",
    "# Exibir a tabela\n",
    "print(tabela_previsao)"
   ]
  },
  {
   "cell_type": "code",
   "execution_count": null,
   "metadata": {},
   "outputs": [],
   "source": []
  },
  {
   "cell_type": "code",
   "execution_count": null,
   "metadata": {},
   "outputs": [],
   "source": []
  }
 ],
 "metadata": {
  "colab": {
   "authorship_tag": "ABX9TyPjgmkbt/LlAmKORGy+vwcW",
   "include_colab_link": true,
   "provenance": []
  },
  "kernelspec": {
   "display_name": "Python 3 (ipykernel)",
   "language": "python",
   "name": "python3"
  },
  "language_info": {
   "codemirror_mode": {
    "name": "ipython",
    "version": 3
   },
   "file_extension": ".py",
   "mimetype": "text/x-python",
   "name": "python",
   "nbconvert_exporter": "python",
   "pygments_lexer": "ipython3",
   "version": "3.9.12"
  },
  "widgets": {
   "application/vnd.jupyter.widget-state+json": {
    "18e43cbe59904e27ab54aaf7d87fcffe": {
     "model_module": "@jupyter-widgets/base",
     "model_module_version": "1.2.0",
     "model_name": "LayoutModel",
     "state": {
      "_model_module": "@jupyter-widgets/base",
      "_model_module_version": "1.2.0",
      "_model_name": "LayoutModel",
      "_view_count": null,
      "_view_module": "@jupyter-widgets/base",
      "_view_module_version": "1.2.0",
      "_view_name": "LayoutView",
      "align_content": null,
      "align_items": null,
      "align_self": null,
      "border": null,
      "bottom": null,
      "display": null,
      "flex": null,
      "flex_flow": null,
      "grid_area": null,
      "grid_auto_columns": null,
      "grid_auto_flow": null,
      "grid_auto_rows": null,
      "grid_column": null,
      "grid_gap": null,
      "grid_row": null,
      "grid_template_areas": null,
      "grid_template_columns": null,
      "grid_template_rows": null,
      "height": null,
      "justify_content": null,
      "justify_items": null,
      "left": null,
      "margin": null,
      "max_height": null,
      "max_width": null,
      "min_height": null,
      "min_width": null,
      "object_fit": null,
      "object_position": null,
      "order": null,
      "overflow": null,
      "overflow_x": null,
      "overflow_y": null,
      "padding": null,
      "right": null,
      "top": null,
      "visibility": null,
      "width": null
     }
    },
    "23d9965ba0484a2faad9f8c670d0812a": {
     "model_module": "@jupyter-widgets/controls",
     "model_module_version": "1.5.0",
     "model_name": "DescriptionStyleModel",
     "state": {
      "_model_module": "@jupyter-widgets/controls",
      "_model_module_version": "1.5.0",
      "_model_name": "DescriptionStyleModel",
      "_view_count": null,
      "_view_module": "@jupyter-widgets/base",
      "_view_module_version": "1.2.0",
      "_view_name": "StyleView",
      "description_width": ""
     }
    },
    "39a7cb46062d4550a7ee149dfcaf657a": {
     "model_module": "@jupyter-widgets/controls",
     "model_module_version": "1.5.0",
     "model_name": "HTMLModel",
     "state": {
      "_dom_classes": [],
      "_model_module": "@jupyter-widgets/controls",
      "_model_module_version": "1.5.0",
      "_model_name": "HTMLModel",
      "_view_count": null,
      "_view_module": "@jupyter-widgets/controls",
      "_view_module_version": "1.5.0",
      "_view_name": "HTMLView",
      "description": "",
      "description_tooltip": null,
      "layout": "IPY_MODEL_5b3b3da926f246478b40aa392535eb20",
      "placeholder": "​",
      "style": "IPY_MODEL_dba12199f41348f68d93a97c2ed06f0c",
      "value": "100%"
     }
    },
    "46500bbfc88c4a4c91667a6aec15d3c0": {
     "model_module": "@jupyter-widgets/base",
     "model_module_version": "1.2.0",
     "model_name": "LayoutModel",
     "state": {
      "_model_module": "@jupyter-widgets/base",
      "_model_module_version": "1.2.0",
      "_model_name": "LayoutModel",
      "_view_count": null,
      "_view_module": "@jupyter-widgets/base",
      "_view_module_version": "1.2.0",
      "_view_name": "LayoutView",
      "align_content": null,
      "align_items": null,
      "align_self": null,
      "border": null,
      "bottom": null,
      "display": null,
      "flex": null,
      "flex_flow": null,
      "grid_area": null,
      "grid_auto_columns": null,
      "grid_auto_flow": null,
      "grid_auto_rows": null,
      "grid_column": null,
      "grid_gap": null,
      "grid_row": null,
      "grid_template_areas": null,
      "grid_template_columns": null,
      "grid_template_rows": null,
      "height": null,
      "justify_content": null,
      "justify_items": null,
      "left": null,
      "margin": null,
      "max_height": null,
      "max_width": null,
      "min_height": null,
      "min_width": null,
      "object_fit": null,
      "object_position": null,
      "order": null,
      "overflow": null,
      "overflow_x": null,
      "overflow_y": null,
      "padding": null,
      "right": null,
      "top": null,
      "visibility": null,
      "width": null
     }
    },
    "5b3b3da926f246478b40aa392535eb20": {
     "model_module": "@jupyter-widgets/base",
     "model_module_version": "1.2.0",
     "model_name": "LayoutModel",
     "state": {
      "_model_module": "@jupyter-widgets/base",
      "_model_module_version": "1.2.0",
      "_model_name": "LayoutModel",
      "_view_count": null,
      "_view_module": "@jupyter-widgets/base",
      "_view_module_version": "1.2.0",
      "_view_name": "LayoutView",
      "align_content": null,
      "align_items": null,
      "align_self": null,
      "border": null,
      "bottom": null,
      "display": null,
      "flex": null,
      "flex_flow": null,
      "grid_area": null,
      "grid_auto_columns": null,
      "grid_auto_flow": null,
      "grid_auto_rows": null,
      "grid_column": null,
      "grid_gap": null,
      "grid_row": null,
      "grid_template_areas": null,
      "grid_template_columns": null,
      "grid_template_rows": null,
      "height": null,
      "justify_content": null,
      "justify_items": null,
      "left": null,
      "margin": null,
      "max_height": null,
      "max_width": null,
      "min_height": null,
      "min_width": null,
      "object_fit": null,
      "object_position": null,
      "order": null,
      "overflow": null,
      "overflow_x": null,
      "overflow_y": null,
      "padding": null,
      "right": null,
      "top": null,
      "visibility": null,
      "width": null
     }
    },
    "5ed456f55e73464295f3c6090fd8962b": {
     "model_module": "@jupyter-widgets/controls",
     "model_module_version": "1.5.0",
     "model_name": "FloatProgressModel",
     "state": {
      "_dom_classes": [],
      "_model_module": "@jupyter-widgets/controls",
      "_model_module_version": "1.5.0",
      "_model_name": "FloatProgressModel",
      "_view_count": null,
      "_view_module": "@jupyter-widgets/controls",
      "_view_module_version": "1.5.0",
      "_view_name": "ProgressView",
      "bar_style": "success",
      "description": "",
      "description_tooltip": null,
      "layout": "IPY_MODEL_46500bbfc88c4a4c91667a6aec15d3c0",
      "max": 69,
      "min": 0,
      "orientation": "horizontal",
      "style": "IPY_MODEL_aa3a875cee84411495c4855924cc1fb4",
      "value": 69
     }
    },
    "73b75e1ea3ac4ab78bb7df53be266583": {
     "model_module": "@jupyter-widgets/base",
     "model_module_version": "1.2.0",
     "model_name": "LayoutModel",
     "state": {
      "_model_module": "@jupyter-widgets/base",
      "_model_module_version": "1.2.0",
      "_model_name": "LayoutModel",
      "_view_count": null,
      "_view_module": "@jupyter-widgets/base",
      "_view_module_version": "1.2.0",
      "_view_name": "LayoutView",
      "align_content": null,
      "align_items": null,
      "align_self": null,
      "border": null,
      "bottom": null,
      "display": null,
      "flex": null,
      "flex_flow": null,
      "grid_area": null,
      "grid_auto_columns": null,
      "grid_auto_flow": null,
      "grid_auto_rows": null,
      "grid_column": null,
      "grid_gap": null,
      "grid_row": null,
      "grid_template_areas": null,
      "grid_template_columns": null,
      "grid_template_rows": null,
      "height": null,
      "justify_content": null,
      "justify_items": null,
      "left": null,
      "margin": null,
      "max_height": null,
      "max_width": null,
      "min_height": null,
      "min_width": null,
      "object_fit": null,
      "object_position": null,
      "order": null,
      "overflow": null,
      "overflow_x": null,
      "overflow_y": null,
      "padding": null,
      "right": null,
      "top": null,
      "visibility": null,
      "width": null
     }
    },
    "aa3a875cee84411495c4855924cc1fb4": {
     "model_module": "@jupyter-widgets/controls",
     "model_module_version": "1.5.0",
     "model_name": "ProgressStyleModel",
     "state": {
      "_model_module": "@jupyter-widgets/controls",
      "_model_module_version": "1.5.0",
      "_model_name": "ProgressStyleModel",
      "_view_count": null,
      "_view_module": "@jupyter-widgets/base",
      "_view_module_version": "1.2.0",
      "_view_name": "StyleView",
      "bar_color": null,
      "description_width": ""
     }
    },
    "dba12199f41348f68d93a97c2ed06f0c": {
     "model_module": "@jupyter-widgets/controls",
     "model_module_version": "1.5.0",
     "model_name": "DescriptionStyleModel",
     "state": {
      "_model_module": "@jupyter-widgets/controls",
      "_model_module_version": "1.5.0",
      "_model_name": "DescriptionStyleModel",
      "_view_count": null,
      "_view_module": "@jupyter-widgets/base",
      "_view_module_version": "1.2.0",
      "_view_name": "StyleView",
      "description_width": ""
     }
    },
    "f3eb7428ab474572b616edc2d0657a12": {
     "model_module": "@jupyter-widgets/controls",
     "model_module_version": "1.5.0",
     "model_name": "HBoxModel",
     "state": {
      "_dom_classes": [],
      "_model_module": "@jupyter-widgets/controls",
      "_model_module_version": "1.5.0",
      "_model_name": "HBoxModel",
      "_view_count": null,
      "_view_module": "@jupyter-widgets/controls",
      "_view_module_version": "1.5.0",
      "_view_name": "HBoxView",
      "box_style": "",
      "children": [
       "IPY_MODEL_39a7cb46062d4550a7ee149dfcaf657a",
       "IPY_MODEL_5ed456f55e73464295f3c6090fd8962b",
       "IPY_MODEL_f96993becdcc4d73a07020a88f1c754b"
      ],
      "layout": "IPY_MODEL_73b75e1ea3ac4ab78bb7df53be266583"
     }
    },
    "f96993becdcc4d73a07020a88f1c754b": {
     "model_module": "@jupyter-widgets/controls",
     "model_module_version": "1.5.0",
     "model_name": "HTMLModel",
     "state": {
      "_dom_classes": [],
      "_model_module": "@jupyter-widgets/controls",
      "_model_module_version": "1.5.0",
      "_model_name": "HTMLModel",
      "_view_count": null,
      "_view_module": "@jupyter-widgets/controls",
      "_view_module_version": "1.5.0",
      "_view_name": "HTMLView",
      "description": "",
      "description_tooltip": null,
      "layout": "IPY_MODEL_18e43cbe59904e27ab54aaf7d87fcffe",
      "placeholder": "​",
      "style": "IPY_MODEL_23d9965ba0484a2faad9f8c670d0812a",
      "value": " 69/69 [03:42&lt;00:00,  8.75s/it]"
     }
    }
   }
  }
 },
 "nbformat": 4,
 "nbformat_minor": 1
}
